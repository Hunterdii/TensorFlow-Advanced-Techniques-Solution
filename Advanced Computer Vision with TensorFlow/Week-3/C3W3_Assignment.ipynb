{
  "nbformat": 4,
  "nbformat_minor": 0,
  "metadata": {
    "accelerator": "GPU",
    "kernelspec": {
      "display_name": "Python 3",
      "language": "python",
      "name": "python3"
    },
    "language_info": {
      "codemirror_mode": {
        "name": "ipython",
        "version": 3
      },
      "file_extension": ".py",
      "mimetype": "text/x-python",
      "name": "python",
      "nbconvert_exporter": "python",
      "pygments_lexer": "ipython3",
      "version": "3.7.4"
    },
    "colab": {
      "name": "C3W3_Assignment.ipynb",
      "provenance": [],
      "collapsed_sections": [
        "T-XO9xkN1OR3",
        "e2ueOTmc3HxJ",
        "Ux5nAU155E5O"
      ]
    }
  },
  "cells": [
    {
      "cell_type": "markdown",
      "metadata": {
        "id": "k6x_sGPQocpw"
      },
      "source": [
        "# Week 3 Assignment: Image Segmentation of Handwritten Digits\n",
        "\n",
        "<img src='https://drive.google.com/uc?export=view&id=1-WBX7w_R9abwdGmAUBFWWEcJ0LkMppq2' alt='m2nist digits'>\n",
        "\n",
        "In this week's assignment, you will build a model that predicts the segmentation masks (pixel-wise label map) of handwritten digits. This model will be trained on the [M2NIST dataset](https://www.kaggle.com/farhanhubble/multimnistm2nist), a multi digit MNIST. If you've done the ungraded lab on the CamVid dataset, then many of the steps here will look familiar.\n",
        "\n",
        "You will build a Convolutional Neural Network (CNN) from scratch for the downsampling path and use a Fully Convolutional Network, FCN-8, to upsample and produce the pixel-wise label map. The model will be evaluated using the intersection over union (IOU) and Dice Score. Finally, you will download the model and upload it to the grader in Coursera to get your score for the assignment."
      ]
    },
    {
      "cell_type": "markdown",
      "metadata": {
        "id": "cnr0kbM0g2LD"
      },
      "source": [
        "## Exercises\n",
        "\n",
        "We've given you some boilerplate code to work with and these are the 5 exercises you need to fill out before you can successfully get the segmentation masks.\n",
        "\n",
        "* [Exercise 1 - Define the Basic Convolution Block](#exercise-1)\n",
        "* [Exercise 2 - Define the Downsampling Path](#exercise-2)\n",
        "* [Exercise 3 - Define the FCN-8 decoder](#exercise-3)\n",
        "* [Exercise 4 - Compile the Model](#exercise-4)\n",
        "* [Exercise 5 - Model Training](#exercise-5)"
      ]
    },
    {
      "cell_type": "markdown",
      "metadata": {
        "id": "MZ3g9dJxSxmN"
      },
      "source": [
        "## Imports\n",
        "\n",
        "As usual, let's start by importing the packages you will use in this lab."
      ]
    },
    {
      "cell_type": "code",
      "metadata": {
        "id": "aifz2907kxYN",
        "colab": {
          "base_uri": "https://localhost:8080/"
        },
        "outputId": "279f2c99-b465-4a63-d9ca-8d74abfb3bde"
      },
      "source": [
        "try:\n",
        "  # %tensorflow_version only exists in Colab.\n",
        "  %tensorflow_version 2.x\n",
        "except Exception:\n",
        "  pass\n",
        "\n",
        "import os\n",
        "import zipfile\n",
        "\n",
        "import PIL.Image, PIL.ImageFont, PIL.ImageDraw\n",
        "import numpy as np\n",
        "from matplotlib import pyplot as plt\n",
        "\n",
        "import tensorflow as tf\n",
        "import tensorflow_datasets as tfds\n",
        "from sklearn.model_selection import train_test_split\n",
        "\n",
        "print(\"Tensorflow version \" + tf.__version__)"
      ],
      "execution_count": 2,
      "outputs": [
        {
          "output_type": "stream",
          "text": [
            "Tensorflow version 2.4.0\n"
          ],
          "name": "stdout"
        }
      ]
    },
    {
      "cell_type": "markdown",
      "metadata": {
        "id": "7RYh6cCzXE6R"
      },
      "source": [
        "## Download the dataset"
      ]
    },
    {
      "cell_type": "markdown",
      "metadata": {
        "id": "QUGGF3wfqYni"
      },
      "source": [
        "[M2NIST](https://www.kaggle.com/farhanhubble/multimnistm2nist) is a **multi digit** [MNIST](http://yann.lecun.com/exdb/mnist/). \n",
        "Each image has up to 3 digits from MNIST digits and the corresponding labels file has the segmentation masks.\n",
        "\n",
        "The dataset is available on [Kaggle](https://www.kaggle.com) and you can find it [here](https://www.kaggle.com/farhanhubble/multimnistm2nist)\n",
        "\n",
        "To make it easier for you, we're hosting it on Google Cloud so you can download without Kaggle credentials.\n"
      ]
    },
    {
      "cell_type": "code",
      "metadata": {
        "id": "ROok0i9rMcu0",
        "colab": {
          "base_uri": "https://localhost:8080/"
        },
        "outputId": "a2e9ed3e-4cce-4fe8-ec7d-fdc863b06aa8"
      },
      "source": [
        "# download zipped dataset\n",
        "!wget --no-check-certificate \\\n",
        "    https://storage.googleapis.com/laurencemoroney-blog.appspot.com/m2nist.zip \\\n",
        "    -O /tmp/m2nist.zip\n",
        "\n",
        "# find and extract to a local folder ('/tmp/training')\n",
        "local_zip = '/tmp/m2nist.zip'\n",
        "zip_ref = zipfile.ZipFile(local_zip, 'r')\n",
        "zip_ref.extractall('/tmp/training')\n",
        "zip_ref.close()"
      ],
      "execution_count": 3,
      "outputs": [
        {
          "output_type": "stream",
          "text": [
            "--2021-01-10 08:49:27--  https://storage.googleapis.com/laurencemoroney-blog.appspot.com/m2nist.zip\n",
            "Resolving storage.googleapis.com (storage.googleapis.com)... 172.217.7.240, 172.217.8.16, 172.217.13.80, ...\n",
            "Connecting to storage.googleapis.com (storage.googleapis.com)|172.217.7.240|:443... connected.\n",
            "HTTP request sent, awaiting response... 200 OK\n",
            "Length: 17378168 (17M) [application/zip]\n",
            "Saving to: ‘/tmp/m2nist.zip’\n",
            "\n",
            "/tmp/m2nist.zip     100%[===================>]  16.57M  --.-KB/s    in 0.08s   \n",
            "\n",
            "2021-01-10 08:49:28 (210 MB/s) - ‘/tmp/m2nist.zip’ saved [17378168/17378168]\n",
            "\n"
          ],
          "name": "stdout"
        }
      ]
    },
    {
      "cell_type": "markdown",
      "metadata": {
        "id": "xy17LYR7XJNa"
      },
      "source": [
        "## Load and Preprocess the Dataset"
      ]
    },
    {
      "cell_type": "markdown",
      "metadata": {
        "id": "LXGMrWnkrvpK"
      },
      "source": [
        "This dataset can be easily preprocessed since it is available as **Numpy Array Files (.npy)**\n",
        "\n",
        "1. **combined.npy** has the image files containing the multiple MNIST digits. Each image is of size **64 x 84** (height x width, in pixels).\n",
        "\n",
        "2. **segmented.npy** has the corresponding segmentation masks. Each segmentation mask is also of size **64 x 84**.\n",
        "\n",
        "This dataset has **5000** samples and you can make appropriate training, validation, and test splits as required for the problem.\n",
        "\n",
        "With that, let's define a few utility functions for loading and preprocessing the dataset."
      ]
    },
    {
      "cell_type": "code",
      "metadata": {
        "id": "Jy_pw5I2-xLP"
      },
      "source": [
        "BATCH_SIZE = 32\n",
        "\n",
        "def read_image_and_annotation(image, annotation):\n",
        "  '''\n",
        "  Casts the image and annotation to their expected data type and\n",
        "  normalizes the input image so that each pixel is in the range [-1, 1]\n",
        "\n",
        "  Args:\n",
        "    image (numpy array) -- input image\n",
        "    annotation (numpy array) -- ground truth label map\n",
        "\n",
        "  Returns:\n",
        "    preprocessed image-annotation pair\n",
        "  '''\n",
        "\n",
        "  image = tf.cast(image, dtype=tf.float32)\n",
        "  image = tf.reshape(image, (image.shape[0], image.shape[1], 1,))\n",
        "  annotation = tf.cast(annotation, dtype=tf.int32)\n",
        "  image = image / 127.5\n",
        "  image -= 1\n",
        "\n",
        "  return image, annotation\n",
        "\n",
        "\n",
        "def get_training_dataset(images, annos):\n",
        "  '''\n",
        "  Prepares shuffled batches of the training set.\n",
        "  \n",
        "  Args:\n",
        "    images (list of strings) -- paths to each image file in the train set\n",
        "    annos (list of strings) -- paths to each label map in the train set\n",
        "\n",
        "  Returns:\n",
        "    tf Dataset containing the preprocessed train set\n",
        "  '''\n",
        "  training_dataset = tf.data.Dataset.from_tensor_slices((images, annos))\n",
        "  training_dataset = training_dataset.map(read_image_and_annotation)\n",
        "\n",
        "  training_dataset = training_dataset.shuffle(512, reshuffle_each_iteration=True)\n",
        "  training_dataset = training_dataset.batch(BATCH_SIZE)\n",
        "  training_dataset = training_dataset.repeat()\n",
        "  training_dataset = training_dataset.prefetch(-1)\n",
        "\n",
        "  return training_dataset\n",
        "\n",
        "\n",
        "def get_validation_dataset(images, annos):\n",
        "  '''\n",
        "  Prepares batches of the validation set.\n",
        "  \n",
        "  Args:\n",
        "    images (list of strings) -- paths to each image file in the val set\n",
        "    annos (list of strings) -- paths to each label map in the val set\n",
        "\n",
        "  Returns:\n",
        "    tf Dataset containing the preprocessed validation set\n",
        "  '''\n",
        "  validation_dataset = tf.data.Dataset.from_tensor_slices((images, annos))\n",
        "  validation_dataset = validation_dataset.map(read_image_and_annotation)\n",
        "  validation_dataset = validation_dataset.batch(BATCH_SIZE)\n",
        "  validation_dataset = validation_dataset.repeat()\n",
        "\n",
        "  return validation_dataset\n",
        "\n",
        "\n",
        "def get_test_dataset(images, annos):\n",
        "  '''\n",
        "  Prepares batches of the test set.\n",
        "  \n",
        "  Args:\n",
        "    images (list of strings) -- paths to each image file in the test set\n",
        "    annos (list of strings) -- paths to each label map in the test set\n",
        "\n",
        "  Returns:\n",
        "    tf Dataset containing the preprocessed validation set\n",
        "  '''\n",
        "  test_dataset = tf.data.Dataset.from_tensor_slices((images, annos))\n",
        "  test_dataset = test_dataset.map(read_image_and_annotation)\n",
        "  test_dataset = test_dataset.batch(BATCH_SIZE, drop_remainder=True)\n",
        "\n",
        "  return test_dataset\n",
        "\n",
        "\n",
        "def load_images_and_segments():\n",
        "  '''\n",
        "  Loads the images and segments as numpy arrays from npy files \n",
        "  and makes splits for training, validation and test datasets.\n",
        "\n",
        "  Returns:\n",
        "    3 tuples containing the train, val, and test splits\n",
        "  '''\n",
        "\n",
        "  #Loads images and segmentation masks.\n",
        "  images = np.load('/tmp/training/combined.npy')\n",
        "  segments = np.load('/tmp/training/segmented.npy')\n",
        "\n",
        "  #Makes training, validation, test splits from loaded images and segmentation masks.\n",
        "  train_images, val_images, train_annos, val_annos = train_test_split(images, segments, test_size=0.2, shuffle=True)\n",
        "  val_images, test_images, val_annos, test_annos = train_test_split(val_images, val_annos, test_size=0.2, shuffle=True)\n",
        "\n",
        "  return (train_images, train_annos), (val_images, val_annos), (test_images, test_annos)\n"
      ],
      "execution_count": 4,
      "outputs": []
    },
    {
      "cell_type": "markdown",
      "metadata": {
        "id": "iPHO1YbTACcu"
      },
      "source": [
        "You can now load the preprocessed dataset and define the training, validation, and test sets."
      ]
    },
    {
      "cell_type": "code",
      "metadata": {
        "id": "hIS70_um_Y7n",
        "lines_to_next_cell": 2
      },
      "source": [
        "# Load Dataset\n",
        "train_slices, val_slices, test_slices = load_images_and_segments()\n",
        "\n",
        "# Create training, validation, test datasets.\n",
        "training_dataset = get_training_dataset(train_slices[0], train_slices[1])\n",
        "validation_dataset = get_validation_dataset(val_slices[0], val_slices[1])\n",
        "test_dataset = get_test_dataset(test_slices[0], test_slices[1])"
      ],
      "execution_count": 5,
      "outputs": []
    },
    {
      "cell_type": "markdown",
      "metadata": {
        "id": "oKXJYZi7A0dF"
      },
      "source": [
        "## Let's Take a Look at the Dataset\n",
        "\n",
        "You may want to visually inspect the dataset before and after training. Like above, we've included utility functions to help show a few images as well as their annotations (i.e. labels)."
      ]
    },
    {
      "cell_type": "code",
      "metadata": {
        "cellView": "both",
        "id": "d46YCbvPafbp"
      },
      "source": [
        "# Visualization Utilities\n",
        "\n",
        "# there are 11 classes in the dataset: one class for each digit (0 to 9) plus the background class\n",
        "n_classes = 11\n",
        "\n",
        "# assign a random color for each class\n",
        "colors = [tuple(np.random.randint(256, size=3) / 255.0) for i in range(n_classes)]\n",
        "\n",
        "def fuse_with_pil(images):\n",
        "  '''\n",
        "  Creates a blank image and pastes input images\n",
        "\n",
        "  Args:\n",
        "    images (list of numpy arrays) - numpy array representations of the images to paste\n",
        "  \n",
        "  Returns:\n",
        "    PIL Image object containing the images\n",
        "  '''\n",
        "\n",
        "  widths = (image.shape[1] for image in images)\n",
        "  heights = (image.shape[0] for image in images)\n",
        "  total_width = sum(widths)\n",
        "  max_height = max(heights)\n",
        "\n",
        "  new_im = PIL.Image.new('RGB', (total_width, max_height))\n",
        "\n",
        "  x_offset = 0\n",
        "  for im in images:\n",
        "    pil_image = PIL.Image.fromarray(np.uint8(im))\n",
        "    new_im.paste(pil_image, (x_offset,0))\n",
        "    x_offset += im.shape[1]\n",
        "  \n",
        "  return new_im\n",
        "\n",
        "\n",
        "def give_color_to_annotation(annotation):\n",
        "  '''\n",
        "  Converts a 2-D annotation to a numpy array with shape (height, width, 3) where\n",
        "  the third axis represents the color channel. The label values are multiplied by\n",
        "  255 and placed in this axis to give color to the annotation\n",
        "\n",
        "  Args:\n",
        "    annotation (numpy array) - label map array\n",
        "  \n",
        "  Returns:\n",
        "    the annotation array with an additional color channel/axis\n",
        "  '''\n",
        "  seg_img = np.zeros( (annotation.shape[0],annotation.shape[1], 3) ).astype('float')\n",
        "  \n",
        "  for c in range(n_classes):\n",
        "    segc = (annotation == c)\n",
        "    seg_img[:,:,0] += segc*( colors[c][0] * 255.0)\n",
        "    seg_img[:,:,1] += segc*( colors[c][1] * 255.0)\n",
        "    seg_img[:,:,2] += segc*( colors[c][2] * 255.0)\n",
        "  \n",
        "  return seg_img\n",
        "\n",
        "\n",
        "def show_annotation_and_prediction(image, annotation, prediction, iou_list, dice_score_list):\n",
        "  '''\n",
        "  Displays the images with the ground truth and predicted label maps. Also overlays the metrics.\n",
        "\n",
        "  Args:\n",
        "    image (numpy array) -- the input image\n",
        "    annotation (numpy array) -- the ground truth label map\n",
        "    prediction (numpy array) -- the predicted label map\n",
        "    iou_list (list of floats) -- the IOU values for each class\n",
        "    dice_score_list (list of floats) -- the Dice Score for each class\n",
        "  '''\n",
        "\n",
        "  new_ann = np.argmax(annotation, axis=2)\n",
        "  true_img = give_color_to_annotation(new_ann)\n",
        "  pred_img = give_color_to_annotation(prediction)\n",
        "\n",
        "  image = image + 1\n",
        "  image = image * 127.5\n",
        "  image = np.reshape(image, (image.shape[0], image.shape[1],))\n",
        "  image = np.uint8(image)\n",
        "  images = [image, np.uint8(pred_img), np.uint8(true_img)]\n",
        "\n",
        "  metrics_by_id = [(idx, iou, dice_score) for idx, (iou, dice_score) in enumerate(zip(iou_list, dice_score_list)) if iou > 0.0 and idx < 10]\n",
        "  metrics_by_id.sort(key=lambda tup: tup[1], reverse=True)  # sorts in place\n",
        "\n",
        "  display_string_list = [\"{}: IOU: {} Dice Score: {}\".format(idx, iou, dice_score) for idx, iou, dice_score in metrics_by_id]\n",
        "  display_string = \"\\n\".join(display_string_list)\n",
        "\n",
        "  plt.figure(figsize=(15, 4))\n",
        "\n",
        "  for idx, im in enumerate(images):\n",
        "    plt.subplot(1, 3, idx+1)\n",
        "    if idx == 1:\n",
        "      plt.xlabel(display_string)\n",
        "    plt.xticks([])\n",
        "    plt.yticks([])\n",
        "    plt.imshow(im)\n",
        "\n",
        "\n",
        "def show_annotation_and_image(image, annotation):\n",
        "  '''\n",
        "  Displays the image and its annotation side by side\n",
        "\n",
        "  Args:\n",
        "    image (numpy array) -- the input image\n",
        "    annotation (numpy array) -- the label map\n",
        "  '''\n",
        "  new_ann = np.argmax(annotation, axis=2)\n",
        "  seg_img = give_color_to_annotation(new_ann)\n",
        "  \n",
        "  image = image + 1\n",
        "  image = image * 127.5\n",
        "  image = np.reshape(image, (image.shape[0], image.shape[1],))\n",
        "\n",
        "  image = np.uint8(image)\n",
        "  images = [image, seg_img]\n",
        "  \n",
        "  images = [image, seg_img]\n",
        "  fused_img = fuse_with_pil(images)\n",
        "  plt.imshow(fused_img)\n",
        "\n",
        "\n",
        "def list_show_annotation(dataset, num_images):\n",
        "  '''\n",
        "  Displays images and its annotations side by side\n",
        "\n",
        "  Args:\n",
        "    dataset (tf Dataset) -- batch of images and annotations\n",
        "    num_images (int) -- number of images to display\n",
        "  '''\n",
        "  ds = dataset.unbatch()\n",
        "\n",
        "  plt.figure(figsize=(20, 15))\n",
        "  plt.title(\"Images And Annotations\")\n",
        "  plt.subplots_adjust(bottom=0.1, top=0.9, hspace=0.05)\n",
        "\n",
        "  for idx, (image, annotation) in enumerate(ds.take(num_images)):\n",
        "    plt.subplot(5, 5, idx + 1)\n",
        "    plt.yticks([])\n",
        "    plt.xticks([])\n",
        "    show_annotation_and_image(image.numpy(), annotation.numpy())\n"
      ],
      "execution_count": 6,
      "outputs": []
    },
    {
      "cell_type": "markdown",
      "metadata": {
        "id": "hEfyChmKEFKe"
      },
      "source": [
        "You can view a subset of the images from the dataset with the `list_show_annotation()` function defined above. Run the cells below to see the image on the left and its pixel-wise ground truth label map on the right."
      ]
    },
    {
      "cell_type": "code",
      "metadata": {
        "id": "AFO_hIhLWYT4",
        "colab": {
          "base_uri": "https://localhost:8080/",
          "height": 282
        },
        "outputId": "25183bb8-e01f-4dd4-b1ba-c45f653c64d4"
      },
      "source": [
        "\n",
        "# get 10 images from the training set\n",
        "list_show_annotation(training_dataset, 10)"
      ],
      "execution_count": 7,
      "outputs": [
        {
          "output_type": "display_data",
          "data": {
            "image/png": "[encoded data removed]",
            "text/plain": [
              "<Figure size 1440x1080 with 10 Axes>"
            ]
          },
          "metadata": {
            "tags": []
          }
        }
      ]
    },
    {
      "cell_type": "code",
      "metadata": {
        "id": "bdgVkp8wZua0",
        "colab": {
          "base_uri": "https://localhost:8080/",
          "height": 282
        },
        "outputId": "5ace74d1-ddfd-46e5-a2c5-00d9bd070bd0"
      },
      "source": [
        "# get 10 images from the validation set\n",
        "list_show_annotation(validation_dataset, 10)"
      ],
      "execution_count": 8,
      "outputs": [
        {
          "output_type": "display_data",
          "data": {
            "image/png": "[encoded data removed]",
            "text/plain": [
              "<Figure size 1440x1080 with 10 Axes>"
            ]
          },
          "metadata": {
            "tags": []
          }
        }
      ]
    },
    {
      "cell_type": "markdown",
      "metadata": {
        "id": "KkpgIcE2FeKI"
      },
      "source": [
        "You see from the images above the colors assigned to each class (i.e 0 to 9 plus the background). If you don't like these colors, feel free to rerun the cell where `colors` is defined to get another set of random colors. Alternatively, you can assign the RGB values for each class instead of relying on random values."
      ]
    },
    {
      "cell_type": "markdown",
      "metadata": {
        "id": "QFv2k8xabRb8"
      },
      "source": [
        "## Define the Model"
      ]
    },
    {
      "cell_type": "markdown",
      "metadata": {
        "id": "Q_ylpyqJDQiF"
      },
      "source": [
        "As discussed in the lectures, the image segmentation model will have two paths:\n",
        "\n",
        "1. **Downsampling Path** - This part of the network extracts the features in the image. This is done through a series of convolution and pooling layers. The final output is a reduced image (because of the pooling layers) with the extracted features. You will build a custom CNN from scratch for this path.\n",
        "\n",
        "2. **Upsampling Path** - This takes the output of the downsampling path and generates the predictions while also converting the image back to its original size. You will use an FCN-8 decoder for this path."
      ]
    },
    {
      "cell_type": "markdown",
      "metadata": {
        "id": "BHlBUZvsDybt"
      },
      "source": [
        "### Define the Basic Convolution Block"
      ]
    },
    {
      "cell_type": "markdown",
      "metadata": {
        "id": "T-XO9xkN1OR3"
      },
      "source": [
        "<a name='exercise-1'></a>\n",
        "\n",
        "#### **Exercise 1**\n",
        "\n",
        "Please complete the function below to build the basic convolution block for our CNN. This will have two [Conv2D](https://keras.io/api/layers/convolution_layers/convolution2d/) layers each followed by a [LeakyReLU](https://keras.io/api/layers/activation_layers/leaky_relu/), then [max pooled](https://keras.io/api/layers/pooling_layers/max_pooling2d/) and [batch-normalized](https://keras.io/api/layers/normalization_layers/batch_normalization/). Use the functional syntax to stack these layers.\n",
        "\n",
        "$$Input -> Conv2D -> LeakyReLU -> Conv2D -> LeakyReLU -> MaxPooling2D -> BatchNormalization$$\n",
        "\n",
        "When defining the Conv2D layers, note that our data inputs will have the 'channels' dimension last. You may want to check the `data_format` argument in the [docs](https://keras.io/api/layers/convolution_layers/convolution2d/) regarding this. Take note of the `padding` argument too like you did in the ungraded labs."
      ]
    },
    {
      "cell_type": "code",
      "metadata": {
        "id": "azEEVytHR0Kn"
      },
      "source": [
        "# parameter describing where the channel dimension is found in our dataset\n",
        "IMAGE_ORDERING = 'channels_last'\n",
        "\n",
        "def conv_block(input, filters, strides, pooling_size, pool_strides):\n",
        "  '''\n",
        "  Args:\n",
        "    input (tensor) -- batch of images or features\n",
        "    filters (int) -- number of filters of the Conv2D layers\n",
        "    strides (int) -- strides setting of the Conv2D layers\n",
        "    pooling_size (int) -- pooling size of the MaxPooling2D layers\n",
        "    pool_strides (int) -- strides setting of the MaxPooling2D layers\n",
        "  \n",
        "  Returns:\n",
        "    (tensor) max pooled and batch-normalized features of the input \n",
        "  '''\n",
        "  ### START CODE HERE ###\n",
        "  # use the functional syntax to stack the layers as shown in the diagram above\n",
        "  x = tf.keras.layers.Conv2D(filters, strides, padding='same', data_format=IMAGE_ORDERING)(input)\n",
        "  x = tf.keras.layers.LeakyReLU()(x)\n",
        "  x = tf.keras.layers.Conv2D(filters, strides, padding='same')(x)\n",
        "  x = tf.keras.layers.LeakyReLU()(x)\n",
        "  x = tf.keras.layers.MaxPooling2D(pool_size= pooling_size, strides= pool_strides)(x)\n",
        "  x = tf.keras.layers.BatchNormalization()(x)\n",
        "  ### END CODE HERE ###\n",
        "\n",
        "  return x"
      ],
      "execution_count": 9,
      "outputs": []
    },
    {
      "cell_type": "code",
      "metadata": {
        "id": "uGtlHuM6KCRg",
        "colab": {
          "base_uri": "https://localhost:8080/"
        },
        "outputId": "979b8524-ba3e-44d4-dcc8-2775df6bcc8d"
      },
      "source": [
        "# TEST CODE:\n",
        "\n",
        "test_input = tf.keras.layers.Input(shape=(64,84, 1))\n",
        "test_output = conv_block(test_input, 32, 3, 2, 2)\n",
        "test_model = tf.keras.Model(inputs=test_input, outputs=test_output)\n",
        "\n",
        "print(test_model.summary())\n",
        "\n",
        "# free up test resources\n",
        "del test_input, test_output, test_model"
      ],
      "execution_count": 10,
      "outputs": [
        {
          "output_type": "stream",
          "text": [
            "Model: \"model\"\n",
            "_________________________________________________________________\n",
            "Layer (type)                 Output Shape              Param #   \n",
            "=================================================================\n",
            "input_1 (InputLayer)         [(None, 64, 84, 1)]       0         \n",
            "_________________________________________________________________\n",
            "conv2d (Conv2D)              (None, 64, 84, 32)        320       \n",
            "_________________________________________________________________\n",
            "leaky_re_lu (LeakyReLU)      (None, 64, 84, 32)        0         \n",
            "_________________________________________________________________\n",
            "conv2d_1 (Conv2D)            (None, 64, 84, 32)        9248      \n",
            "_________________________________________________________________\n",
            "leaky_re_lu_1 (LeakyReLU)    (None, 64, 84, 32)        0         \n",
            "_________________________________________________________________\n",
            "max_pooling2d (MaxPooling2D) (None, 32, 42, 32)        0         \n",
            "_________________________________________________________________\n",
            "batch_normalization (BatchNo (None, 32, 42, 32)        128       \n",
            "=================================================================\n",
            "Total params: 9,696\n",
            "Trainable params: 9,632\n",
            "Non-trainable params: 64\n",
            "_________________________________________________________________\n",
            "None\n"
          ],
          "name": "stdout"
        }
      ]
    },
    {
      "cell_type": "markdown",
      "metadata": {
        "id": "Mmf_ZaMP2rV3"
      },
      "source": [
        "**Expected Output**:\n",
        "\n",
        "Please pay attention to the *(type)* and *Output Shape* columns. The *Layer* name beside the type may be different depending on how many times you ran the cell (e.g. `input_7` can be `input_1`)\n",
        "\n",
        "```txt\n",
        "Model: \"functional_1\"\n",
        "_________________________________________________________________\n",
        "Layer (type)                 Output Shape              Param #   \n",
        "=================================================================\n",
        "input_1 (InputLayer)         [(None, 64, 84, 1)]       0         \n",
        "_________________________________________________________________\n",
        "conv2d (Conv2D)              (None, 64, 84, 32)        320       \n",
        "_________________________________________________________________\n",
        "leaky_re_lu (LeakyReLU)      (None, 64, 84, 32)        0         \n",
        "_________________________________________________________________\n",
        "conv2d_1 (Conv2D)            (None, 64, 84, 32)        9248      \n",
        "_________________________________________________________________\n",
        "leaky_re_lu_1 (LeakyReLU)    (None, 64, 84, 32)        0         \n",
        "_________________________________________________________________\n",
        "max_pooling2d (MaxPooling2D) (None, 32, 42, 32)        0         \n",
        "_________________________________________________________________\n",
        "batch_normalization (BatchNo (None, 32, 42, 32)        128       \n",
        "=================================================================\n",
        "Total params: 9,696\n",
        "Trainable params: 9,632\n",
        "Non-trainable params: 64\n",
        "_________________________________________________________________\n",
        "None\n",
        "```"
      ]
    },
    {
      "cell_type": "markdown",
      "metadata": {
        "id": "4-jJbC91EXTV"
      },
      "source": [
        "### Define the Downsampling Path"
      ]
    },
    {
      "cell_type": "markdown",
      "metadata": {
        "id": "e2ueOTmc3HxJ"
      },
      "source": [
        "<a name='exercise-2'></a>\n",
        "\n",
        "#### **Exercise 2**\n",
        "\n",
        "Now that we've defined the building block of our encoder, you can now build the downsampling path. Please complete the function below to create the encoder. This should chain together five convolution building blocks to create a feature extraction CNN minus the fully connected layers.\n",
        "\n",
        "*Notes*: \n",
        "1. To optimize processing, it is best to resize the images to have dimension sizes in the power of 2. We know that our dataset images have the size 64 x 84. 64 is already a power of 2. 84, on the other hand, is not and needs to be padded to 96. You can refer to the [ZeroPadding2D layer](https://keras.io/api/layers/reshaping_layers/zero_padding2d/) on how to do this. Remember that you will only pad the width (84) and not the height (64).\n",
        "\n",
        "2. We recommend keeping the pool size and stride parameters constant at 2 "
      ]
    },
    {
      "cell_type": "code",
      "metadata": {
        "id": "F2VNB99LRwQr"
      },
      "source": [
        "def FCN8(input_height=64, input_width=84):\n",
        "    '''\n",
        "    Defines the downsampling path of the image segmentation model.\n",
        "\n",
        "    Args:\n",
        "      input_height (int) -- height of the images\n",
        "      width (int) -- width of the images\n",
        "\n",
        "    Returns:\n",
        "    (tuple of tensors, tensor)\n",
        "      tuple of tensors -- features extracted at blocks 3 to 5\n",
        "      tensor -- copy of the input\n",
        "    '''\n",
        "   \n",
        "    img_input = tf.keras.layers.Input(shape=(input_height,input_width, 1))\n",
        "\n",
        "    ### START CODE HERE ###\n",
        "    \n",
        "    # pad the input image to have dimensions to the nearest power of two\n",
        "    x = tf.keras.layers.ZeroPadding2D(padding = (0, 6))(img_input)\n",
        "\n",
        "    # Block 1\n",
        "    x = conv_block(x, 32, 2, 2, 2)\n",
        "    \n",
        "    # Block 2\n",
        "    x = conv_block(x, 64, 2, 2, 2)\n",
        "\n",
        "    # Block 3\n",
        "    x = conv_block(x, 128, 2, 2, 2)\n",
        "    # save the feature map at this stage\n",
        "    f3 = x\n",
        "\n",
        "    # Block 4\n",
        "    x = conv_block(x, 256, 2, 2, 2)\n",
        "    # save the feature map at this stage\n",
        "    f4 = x\n",
        "\n",
        "    # Block 5\n",
        "    x = conv_block(x, 256, 2, 2, 2)\n",
        "    # save the feature map at this stage\n",
        "    f5 = x\n",
        "\n",
        "    ### END CODE HERE ###\n",
        "  \n",
        "    return (f3, f4, f5), img_input"
      ],
      "execution_count": 11,
      "outputs": []
    },
    {
      "cell_type": "code",
      "metadata": {
        "id": "HVQm1W0CNICS",
        "colab": {
          "base_uri": "https://localhost:8080/"
        },
        "outputId": "43f25b32-1b90-45fb-a8f6-12547a3e0046"
      },
      "source": [
        "# TEST CODE:\n",
        "\n",
        "test_convs, test_img_input = FCN8()\n",
        "test_model = tf.keras.Model(inputs=test_img_input, outputs=[test_convs, test_img_input])\n",
        "\n",
        "print(test_model.summary())\n",
        "\n",
        "del test_convs, test_img_input, test_model"
      ],
      "execution_count": 12,
      "outputs": [
        {
          "output_type": "stream",
          "text": [
            "Model: \"model_1\"\n",
            "_________________________________________________________________\n",
            "Layer (type)                 Output Shape              Param #   \n",
            "=================================================================\n",
            "input_2 (InputLayer)         [(None, 64, 84, 1)]       0         \n",
            "_________________________________________________________________\n",
            "zero_padding2d (ZeroPadding2 (None, 64, 96, 1)         0         \n",
            "_________________________________________________________________\n",
            "conv2d_2 (Conv2D)            (None, 64, 96, 32)        160       \n",
            "_________________________________________________________________\n",
            "leaky_re_lu_2 (LeakyReLU)    (None, 64, 96, 32)        0         \n",
            "_________________________________________________________________\n",
            "conv2d_3 (Conv2D)            (None, 64, 96, 32)        4128      \n",
            "_________________________________________________________________\n",
            "leaky_re_lu_3 (LeakyReLU)    (None, 64, 96, 32)        0         \n",
            "_________________________________________________________________\n",
            "max_pooling2d_1 (MaxPooling2 (None, 32, 48, 32)        0         \n",
            "_________________________________________________________________\n",
            "batch_normalization_1 (Batch (None, 32, 48, 32)        128       \n",
            "_________________________________________________________________\n",
            "conv2d_4 (Conv2D)            (None, 32, 48, 64)        8256      \n",
            "_________________________________________________________________\n",
            "leaky_re_lu_4 (LeakyReLU)    (None, 32, 48, 64)        0         \n",
            "_________________________________________________________________\n",
            "conv2d_5 (Conv2D)            (None, 32, 48, 64)        16448     \n",
            "_________________________________________________________________\n",
            "leaky_re_lu_5 (LeakyReLU)    (None, 32, 48, 64)        0         \n",
            "_________________________________________________________________\n",
            "max_pooling2d_2 (MaxPooling2 (None, 16, 24, 64)        0         \n",
            "_________________________________________________________________\n",
            "batch_normalization_2 (Batch (None, 16, 24, 64)        256       \n",
            "_________________________________________________________________\n",
            "conv2d_6 (Conv2D)            (None, 16, 24, 128)       32896     \n",
            "_________________________________________________________________\n",
            "leaky_re_lu_6 (LeakyReLU)    (None, 16, 24, 128)       0         \n",
            "_________________________________________________________________\n",
            "conv2d_7 (Conv2D)            (None, 16, 24, 128)       65664     \n",
            "_________________________________________________________________\n",
            "leaky_re_lu_7 (LeakyReLU)    (None, 16, 24, 128)       0         \n",
            "_________________________________________________________________\n",
            "max_pooling2d_3 (MaxPooling2 (None, 8, 12, 128)        0         \n",
            "_________________________________________________________________\n",
            "batch_normalization_3 (Batch (None, 8, 12, 128)        512       \n",
            "_________________________________________________________________\n",
            "conv2d_8 (Conv2D)            (None, 8, 12, 256)        131328    \n",
            "_________________________________________________________________\n",
            "leaky_re_lu_8 (LeakyReLU)    (None, 8, 12, 256)        0         \n",
            "_________________________________________________________________\n",
            "conv2d_9 (Conv2D)            (None, 8, 12, 256)        262400    \n",
            "_________________________________________________________________\n",
            "leaky_re_lu_9 (LeakyReLU)    (None, 8, 12, 256)        0         \n",
            "_________________________________________________________________\n",
            "max_pooling2d_4 (MaxPooling2 (None, 4, 6, 256)         0         \n",
            "_________________________________________________________________\n",
            "batch_normalization_4 (Batch (None, 4, 6, 256)         1024      \n",
            "_________________________________________________________________\n",
            "conv2d_10 (Conv2D)           (None, 4, 6, 256)         262400    \n",
            "_________________________________________________________________\n",
            "leaky_re_lu_10 (LeakyReLU)   (None, 4, 6, 256)         0         \n",
            "_________________________________________________________________\n",
            "conv2d_11 (Conv2D)           (None, 4, 6, 256)         262400    \n",
            "_________________________________________________________________\n",
            "leaky_re_lu_11 (LeakyReLU)   (None, 4, 6, 256)         0         \n",
            "_________________________________________________________________\n",
            "max_pooling2d_5 (MaxPooling2 (None, 2, 3, 256)         0         \n",
            "_________________________________________________________________\n",
            "batch_normalization_5 (Batch (None, 2, 3, 256)         1024      \n",
            "=================================================================\n",
            "Total params: 1,049,024\n",
            "Trainable params: 1,047,552\n",
            "Non-trainable params: 1,472\n",
            "_________________________________________________________________\n",
            "None\n"
          ],
          "name": "stdout"
        }
      ]
    },
    {
      "cell_type": "markdown",
      "metadata": {
        "id": "sxklZe_D3jOI"
      },
      "source": [
        "**Expected Output**:\n",
        "\n",
        "You should see the layers of your `conv_block()` being repeated 5 times like the output below.\n",
        "\n",
        "```txt\n",
        "Model: \"functional_3\"\n",
        "_________________________________________________________________\n",
        "Layer (type)                 Output Shape              Param #   \n",
        "=================================================================\n",
        "input_3 (InputLayer)         [(None, 64, 84, 1)]       0         \n",
        "_________________________________________________________________\n",
        "zero_padding2d (ZeroPadding2 (None, 64, 96, 1)         0         \n",
        "_________________________________________________________________\n",
        "conv2d_2 (Conv2D)            (None, 64, 96, 32)        320       \n",
        "_________________________________________________________________\n",
        "leaky_re_lu_2 (LeakyReLU)    (None, 64, 96, 32)        0         \n",
        "_________________________________________________________________\n",
        "conv2d_3 (Conv2D)            (None, 64, 96, 32)        9248      \n",
        "_________________________________________________________________\n",
        "leaky_re_lu_3 (LeakyReLU)    (None, 64, 96, 32)        0         \n",
        "_________________________________________________________________\n",
        "max_pooling2d_1 (MaxPooling2 (None, 32, 48, 32)        0         \n",
        "_________________________________________________________________\n",
        "batch_normalization_1 (Batch (None, 32, 48, 32)        128       \n",
        "_________________________________________________________________\n",
        "conv2d_4 (Conv2D)            (None, 32, 48, 64)        18496     \n",
        "_________________________________________________________________\n",
        "leaky_re_lu_4 (LeakyReLU)    (None, 32, 48, 64)        0         \n",
        "_________________________________________________________________\n",
        "conv2d_5 (Conv2D)            (None, 32, 48, 64)        36928     \n",
        "_________________________________________________________________\n",
        "leaky_re_lu_5 (LeakyReLU)    (None, 32, 48, 64)        0         \n",
        "_________________________________________________________________\n",
        "max_pooling2d_2 (MaxPooling2 (None, 16, 24, 64)        0         \n",
        "_________________________________________________________________\n",
        "batch_normalization_2 (Batch (None, 16, 24, 64)        256       \n",
        "_________________________________________________________________\n",
        "conv2d_6 (Conv2D)            (None, 16, 24, 128)       73856     \n",
        "_________________________________________________________________\n",
        "leaky_re_lu_6 (LeakyReLU)    (None, 16, 24, 128)       0         \n",
        "_________________________________________________________________\n",
        "conv2d_7 (Conv2D)            (None, 16, 24, 128)       147584    \n",
        "_________________________________________________________________\n",
        "leaky_re_lu_7 (LeakyReLU)    (None, 16, 24, 128)       0         \n",
        "_________________________________________________________________\n",
        "max_pooling2d_3 (MaxPooling2 (None, 8, 12, 128)        0         \n",
        "_________________________________________________________________\n",
        "batch_normalization_3 (Batch (None, 8, 12, 128)        512       \n",
        "_________________________________________________________________\n",
        "conv2d_8 (Conv2D)            (None, 8, 12, 256)        295168    \n",
        "_________________________________________________________________\n",
        "leaky_re_lu_8 (LeakyReLU)    (None, 8, 12, 256)        0         \n",
        "_________________________________________________________________\n",
        "conv2d_9 (Conv2D)            (None, 8, 12, 256)        590080    \n",
        "_________________________________________________________________\n",
        "leaky_re_lu_9 (LeakyReLU)    (None, 8, 12, 256)        0         \n",
        "_________________________________________________________________\n",
        "max_pooling2d_4 (MaxPooling2 (None, 4, 6, 256)         0         \n",
        "_________________________________________________________________\n",
        "batch_normalization_4 (Batch (None, 4, 6, 256)         1024      \n",
        "_________________________________________________________________\n",
        "conv2d_10 (Conv2D)           (None, 4, 6, 256)         590080    \n",
        "_________________________________________________________________\n",
        "leaky_re_lu_10 (LeakyReLU)   (None, 4, 6, 256)         0         \n",
        "_________________________________________________________________\n",
        "conv2d_11 (Conv2D)           (None, 4, 6, 256)         590080    \n",
        "_________________________________________________________________\n",
        "leaky_re_lu_11 (LeakyReLU)   (None, 4, 6, 256)         0         \n",
        "_________________________________________________________________\n",
        "max_pooling2d_5 (MaxPooling2 (None, 2, 3, 256)         0         \n",
        "_________________________________________________________________\n",
        "batch_normalization_5 (Batch (None, 2, 3, 256)         1024      \n",
        "=================================================================\n",
        "Total params: 2,354,784\n",
        "Trainable params: 2,353,312\n",
        "Non-trainable params: 1,472\n",
        "_________________________________________________________________\n",
        "None\n",
        "```"
      ]
    },
    {
      "cell_type": "markdown",
      "metadata": {
        "id": "LbjYEQU8Eq-T"
      },
      "source": [
        "### Define the FCN-8 decoder"
      ]
    },
    {
      "cell_type": "markdown",
      "metadata": {
        "id": "Ux5nAU155E5O"
      },
      "source": [
        "<a name='exercise-3'></a>\n",
        "\n",
        "#### **Exercise 3**\n",
        "\n",
        "Now you can define the upsampling path taking the outputs of convolutions at each stage as arguments. This will be very similar to what you did in the ungraded lab (VGG16-FCN8-CamVid) so you can refer to it if you need a refresher. \n",
        "* Note: remember to set the `data_format` parameter for the Conv2D layers. \n",
        "\n",
        "Here is also the diagram you saw in class on how it should work:\n",
        "\n",
        "<img src='https://drive.google.com/uc?export=view&id=1lrqB4YegV8jXWNfyYAaeuFlwXIc54aRP' alt='fcn-8'>"
      ]
    },
    {
      "cell_type": "code",
      "metadata": {
        "id": "giYEct_Se5Xj"
      },
      "source": [
        "def fcn8_decoder(convs, n_classes):\n",
        "  # features from the encoder stage\n",
        "  f3, f4, f5 = convs\n",
        "\n",
        "  # number of filters\n",
        "  n = 512\n",
        "\n",
        "  # add convolutional layers on top of the CNN extractor.\n",
        "  o = tf.keras.layers.Conv2D(n , (7 , 7) , activation='relu' , padding='same', name=\"conv6\", data_format=IMAGE_ORDERING)(f5)\n",
        "  o = tf.keras.layers.Dropout(0.5)(o)\n",
        "\n",
        "  o = tf.keras.layers.Conv2D(n , (1 , 1) , activation='relu' , padding='same', name=\"conv7\", data_format=IMAGE_ORDERING)(o)\n",
        "  o = tf.keras.layers.Dropout(0.5)(o)\n",
        "\n",
        "  o = tf.keras.layers.Conv2D(n_classes,  (1, 1), activation='relu' , padding='same', data_format=IMAGE_ORDERING)(o)\n",
        "\n",
        "    \n",
        "  ### START CODE HERE ###\n",
        "\n",
        "  # Upsample `o` above and crop any extra pixels introduced\n",
        "  o = tf.keras.layers.Conv2DTranspose(n_classes , kernel_size=(4,4) ,  strides=(2,2))(o)\n",
        "  o = tf.keras.layers.Cropping2D(cropping=(1,1))(o)\n",
        "\n",
        "  # load the pool 4 prediction and do a 1x1 convolution to reshape it to the same shape of `o` above\n",
        "  o2 = f4\n",
        "  o2 = ( tf.keras.layers.Conv2D(n_classes , ( 1 , 1 ) , activation='relu' , padding='same'))(o2)\n",
        "\n",
        "  # add the results of the upsampling and pool 4 prediction\n",
        "  o = tf.keras.layers.Add()([o, o2])\n",
        "\n",
        "  # upsample the resulting tensor of the operation you just did\n",
        "  o =  (tf.keras.layers.Conv2DTranspose( n_classes , kernel_size=(4,4) ,  strides=(2,2)))(o)\n",
        "  o = tf.keras.layers.Cropping2D(cropping=(1, 1))(o)\n",
        "\n",
        "  # load the pool 3 prediction and do a 1x1 convolution to reshape it to the same shape of `o` above\n",
        "  o2 =  f3\n",
        "  o2 = tf.keras.layers.Conv2D(n_classes , ( 1 , 1 ) , activation='relu' , padding='same', data_format=IMAGE_ORDERING)(o2)\n",
        "\n",
        "  # add the results of the upsampling and pool 3 prediction\n",
        "  o = tf.keras.layers.Add()([o, o2])\n",
        "\n",
        "  # upsample up to the size of the original image\n",
        "  o = tf.keras.layers.Conv2DTranspose(n_classes , kernel_size=(8,8) ,  strides=(8,8))(o)\n",
        "  o = tf.keras.layers.Cropping2D(((0, 0), (0, 96-84)))(o)\n",
        "\n",
        "  # append a sigmoid activation\n",
        "  o = (tf.keras.layers.Activation('softmax'))(o)\n",
        "  ### END CODE HERE ###\n",
        "\n",
        "  return o"
      ],
      "execution_count": 13,
      "outputs": []
    },
    {
      "cell_type": "code",
      "metadata": {
        "id": "lQHioDlR5K1_",
        "colab": {
          "base_uri": "https://localhost:8080/"
        },
        "outputId": "f1cc67c6-b6ce-40ef-ef70-025d6102ce34"
      },
      "source": [
        "# TEST CODE\n",
        "\n",
        "test_convs, test_img_input = FCN8()\n",
        "test_fcn8_decoder = fcn8_decoder(test_convs, 11)\n",
        "\n",
        "print(test_fcn8_decoder.shape)\n",
        "\n",
        "del test_convs, test_img_input, test_fcn8_decoder"
      ],
      "execution_count": 14,
      "outputs": [
        {
          "output_type": "stream",
          "text": [
            "(None, 64, 84, 11)\n"
          ],
          "name": "stdout"
        }
      ]
    },
    {
      "cell_type": "markdown",
      "metadata": {
        "id": "C1qTwTX-5fwH"
      },
      "source": [
        "**Expected Output:**\n",
        "\n",
        "```txt\n",
        "(None, 64, 84, 11)\n",
        "```"
      ]
    },
    {
      "cell_type": "markdown",
      "metadata": {
        "id": "cJOhQz86Qk6n"
      },
      "source": [
        "### Define the Complete Model\n",
        "\n",
        "The downsampling and upsampling paths can now be combined as shown below."
      ]
    },
    {
      "cell_type": "code",
      "metadata": {
        "id": "9EJEf484312h",
        "lines_to_next_cell": 2
      },
      "source": [
        "# start the encoder using the default input size 64 x 84\n",
        "convs, img_input = FCN8()\n",
        "\n",
        "# pass the convolutions obtained in the encoder to the decoder\n",
        "dec_op = fcn8_decoder(convs, n_classes)\n",
        "\n",
        "# define the model specifying the input (batch of images) and output (decoder output)\n",
        "model = tf.keras.Model(inputs = img_input, outputs = dec_op)"
      ],
      "execution_count": 15,
      "outputs": []
    },
    {
      "cell_type": "code",
      "metadata": {
        "id": "2GAenp1M4gXx",
        "colab": {
          "base_uri": "https://localhost:8080/"
        },
        "outputId": "3de24963-cad6-4c5b-f6af-edb6be47370b"
      },
      "source": [
        "model.summary()"
      ],
      "execution_count": 16,
      "outputs": [
        {
          "output_type": "stream",
          "text": [
            "Model: \"model_2\"\n",
            "__________________________________________________________________________________________________\n",
            "Layer (type)                    Output Shape         Param #     Connected to                     \n",
            "==================================================================================================\n",
            "input_4 (InputLayer)            [(None, 64, 84, 1)]  0                                            \n",
            "__________________________________________________________________________________________________\n",
            "zero_padding2d_2 (ZeroPadding2D (None, 64, 96, 1)    0           input_4[0][0]                    \n",
            "__________________________________________________________________________________________________\n",
            "conv2d_25 (Conv2D)              (None, 64, 96, 32)   160         zero_padding2d_2[0][0]           \n",
            "__________________________________________________________________________________________________\n",
            "leaky_re_lu_22 (LeakyReLU)      (None, 64, 96, 32)   0           conv2d_25[0][0]                  \n",
            "__________________________________________________________________________________________________\n",
            "conv2d_26 (Conv2D)              (None, 64, 96, 32)   4128        leaky_re_lu_22[0][0]             \n",
            "__________________________________________________________________________________________________\n",
            "leaky_re_lu_23 (LeakyReLU)      (None, 64, 96, 32)   0           conv2d_26[0][0]                  \n",
            "__________________________________________________________________________________________________\n",
            "max_pooling2d_11 (MaxPooling2D) (None, 32, 48, 32)   0           leaky_re_lu_23[0][0]             \n",
            "__________________________________________________________________________________________________\n",
            "batch_normalization_11 (BatchNo (None, 32, 48, 32)   128         max_pooling2d_11[0][0]           \n",
            "__________________________________________________________________________________________________\n",
            "conv2d_27 (Conv2D)              (None, 32, 48, 64)   8256        batch_normalization_11[0][0]     \n",
            "__________________________________________________________________________________________________\n",
            "leaky_re_lu_24 (LeakyReLU)      (None, 32, 48, 64)   0           conv2d_27[0][0]                  \n",
            "__________________________________________________________________________________________________\n",
            "conv2d_28 (Conv2D)              (None, 32, 48, 64)   16448       leaky_re_lu_24[0][0]             \n",
            "__________________________________________________________________________________________________\n",
            "leaky_re_lu_25 (LeakyReLU)      (None, 32, 48, 64)   0           conv2d_28[0][0]                  \n",
            "__________________________________________________________________________________________________\n",
            "max_pooling2d_12 (MaxPooling2D) (None, 16, 24, 64)   0           leaky_re_lu_25[0][0]             \n",
            "__________________________________________________________________________________________________\n",
            "batch_normalization_12 (BatchNo (None, 16, 24, 64)   256         max_pooling2d_12[0][0]           \n",
            "__________________________________________________________________________________________________\n",
            "conv2d_29 (Conv2D)              (None, 16, 24, 128)  32896       batch_normalization_12[0][0]     \n",
            "__________________________________________________________________________________________________\n",
            "leaky_re_lu_26 (LeakyReLU)      (None, 16, 24, 128)  0           conv2d_29[0][0]                  \n",
            "__________________________________________________________________________________________________\n",
            "conv2d_30 (Conv2D)              (None, 16, 24, 128)  65664       leaky_re_lu_26[0][0]             \n",
            "__________________________________________________________________________________________________\n",
            "leaky_re_lu_27 (LeakyReLU)      (None, 16, 24, 128)  0           conv2d_30[0][0]                  \n",
            "__________________________________________________________________________________________________\n",
            "max_pooling2d_13 (MaxPooling2D) (None, 8, 12, 128)   0           leaky_re_lu_27[0][0]             \n",
            "__________________________________________________________________________________________________\n",
            "batch_normalization_13 (BatchNo (None, 8, 12, 128)   512         max_pooling2d_13[0][0]           \n",
            "__________________________________________________________________________________________________\n",
            "conv2d_31 (Conv2D)              (None, 8, 12, 256)   131328      batch_normalization_13[0][0]     \n",
            "__________________________________________________________________________________________________\n",
            "leaky_re_lu_28 (LeakyReLU)      (None, 8, 12, 256)   0           conv2d_31[0][0]                  \n",
            "__________________________________________________________________________________________________\n",
            "conv2d_32 (Conv2D)              (None, 8, 12, 256)   262400      leaky_re_lu_28[0][0]             \n",
            "__________________________________________________________________________________________________\n",
            "leaky_re_lu_29 (LeakyReLU)      (None, 8, 12, 256)   0           conv2d_32[0][0]                  \n",
            "__________________________________________________________________________________________________\n",
            "max_pooling2d_14 (MaxPooling2D) (None, 4, 6, 256)    0           leaky_re_lu_29[0][0]             \n",
            "__________________________________________________________________________________________________\n",
            "batch_normalization_14 (BatchNo (None, 4, 6, 256)    1024        max_pooling2d_14[0][0]           \n",
            "__________________________________________________________________________________________________\n",
            "conv2d_33 (Conv2D)              (None, 4, 6, 256)    262400      batch_normalization_14[0][0]     \n",
            "__________________________________________________________________________________________________\n",
            "leaky_re_lu_30 (LeakyReLU)      (None, 4, 6, 256)    0           conv2d_33[0][0]                  \n",
            "__________________________________________________________________________________________________\n",
            "conv2d_34 (Conv2D)              (None, 4, 6, 256)    262400      leaky_re_lu_30[0][0]             \n",
            "__________________________________________________________________________________________________\n",
            "leaky_re_lu_31 (LeakyReLU)      (None, 4, 6, 256)    0           conv2d_34[0][0]                  \n",
            "__________________________________________________________________________________________________\n",
            "max_pooling2d_15 (MaxPooling2D) (None, 2, 3, 256)    0           leaky_re_lu_31[0][0]             \n",
            "__________________________________________________________________________________________________\n",
            "batch_normalization_15 (BatchNo (None, 2, 3, 256)    1024        max_pooling2d_15[0][0]           \n",
            "__________________________________________________________________________________________________\n",
            "conv6 (Conv2D)                  (None, 2, 3, 512)    6423040     batch_normalization_15[0][0]     \n",
            "__________________________________________________________________________________________________\n",
            "dropout_2 (Dropout)             (None, 2, 3, 512)    0           conv6[0][0]                      \n",
            "__________________________________________________________________________________________________\n",
            "conv7 (Conv2D)                  (None, 2, 3, 512)    262656      dropout_2[0][0]                  \n",
            "__________________________________________________________________________________________________\n",
            "dropout_3 (Dropout)             (None, 2, 3, 512)    0           conv7[0][0]                      \n",
            "__________________________________________________________________________________________________\n",
            "conv2d_35 (Conv2D)              (None, 2, 3, 11)     5643        dropout_3[0][0]                  \n",
            "__________________________________________________________________________________________________\n",
            "conv2d_transpose_3 (Conv2DTrans (None, 6, 8, 11)     1947        conv2d_35[0][0]                  \n",
            "__________________________________________________________________________________________________\n",
            "cropping2d_3 (Cropping2D)       (None, 4, 6, 11)     0           conv2d_transpose_3[0][0]         \n",
            "__________________________________________________________________________________________________\n",
            "conv2d_36 (Conv2D)              (None, 4, 6, 11)     2827        batch_normalization_14[0][0]     \n",
            "__________________________________________________________________________________________________\n",
            "add_2 (Add)                     (None, 4, 6, 11)     0           cropping2d_3[0][0]               \n",
            "                                                                 conv2d_36[0][0]                  \n",
            "__________________________________________________________________________________________________\n",
            "conv2d_transpose_4 (Conv2DTrans (None, 10, 14, 11)   1947        add_2[0][0]                      \n",
            "__________________________________________________________________________________________________\n",
            "cropping2d_4 (Cropping2D)       (None, 8, 12, 11)    0           conv2d_transpose_4[0][0]         \n",
            "__________________________________________________________________________________________________\n",
            "conv2d_37 (Conv2D)              (None, 8, 12, 11)    1419        batch_normalization_13[0][0]     \n",
            "__________________________________________________________________________________________________\n",
            "add_3 (Add)                     (None, 8, 12, 11)    0           cropping2d_4[0][0]               \n",
            "                                                                 conv2d_37[0][0]                  \n",
            "__________________________________________________________________________________________________\n",
            "conv2d_transpose_5 (Conv2DTrans (None, 64, 96, 11)   7755        add_3[0][0]                      \n",
            "__________________________________________________________________________________________________\n",
            "cropping2d_5 (Cropping2D)       (None, 64, 84, 11)   0           conv2d_transpose_5[0][0]         \n",
            "__________________________________________________________________________________________________\n",
            "activation_1 (Activation)       (None, 64, 84, 11)   0           cropping2d_5[0][0]               \n",
            "==================================================================================================\n",
            "Total params: 7,756,258\n",
            "Trainable params: 7,754,786\n",
            "Non-trainable params: 1,472\n",
            "__________________________________________________________________________________________________\n"
          ],
          "name": "stdout"
        }
      ]
    },
    {
      "cell_type": "markdown",
      "metadata": {
        "id": "wAAXygZtbZmu"
      },
      "source": [
        "## Compile the Model"
      ]
    },
    {
      "cell_type": "markdown",
      "metadata": {
        "id": "sC-9m1R_5tjV"
      },
      "source": [
        "<a name='exercise-4'></a>\n",
        "\n",
        "### **Exercise 4**\n",
        "\n",
        "Compile the model using an appropriate loss, optimizer, and metric."
      ]
    },
    {
      "cell_type": "code",
      "metadata": {
        "id": "ZpWpp8h4g_rE"
      },
      "source": [
        "### START CODE HERE ###\n",
        "model.compile(loss='categorical_crossentropy', optimizer=tf.keras.optimizers.SGD(lr=1E-2, momentum=0.9, nesterov=True), \n",
        "              metrics=['accuracy'])\n",
        "### END CODE HERE ###"
      ],
      "execution_count": 17,
      "outputs": []
    },
    {
      "cell_type": "markdown",
      "metadata": {
        "id": "510v0aVDXv1f"
      },
      "source": [
        "## Model Training"
      ]
    },
    {
      "cell_type": "markdown",
      "metadata": {
        "id": "1udK8qps6PcG"
      },
      "source": [
        "<a name='exercise-5'></a>\n",
        "\n",
        "### **Exercise 5**\n",
        "\n",
        "You can now train the model. Set the number of epochs and observe the metrics returned at each iteration. You can also terminate the cell execution if you think your model is performing well already."
      ]
    },
    {
      "cell_type": "code",
      "metadata": {
        "id": "8HoZwpGWhMB-",
        "colab": {
          "base_uri": "https://localhost:8080/"
        },
        "outputId": "92f9d409-12db-42a7-f2b2-6ea9e60be0c0"
      },
      "source": [
        "# OTHER THAN SETTING THE EPOCHS NUMBER, DO NOT CHANGE ANY OTHER CODE\n",
        "\n",
        "### START CODE HERE ###\n",
        "EPOCHS = 250\n",
        "### END CODE HERE ###\n",
        "\n",
        "steps_per_epoch = 4000//BATCH_SIZE\n",
        "validation_steps = 800//BATCH_SIZE\n",
        "test_steps = 200//BATCH_SIZE\n",
        "\n",
        "\n",
        "history = model.fit(training_dataset,\n",
        "                    steps_per_epoch=steps_per_epoch, validation_data=validation_dataset, validation_steps=validation_steps, epochs=EPOCHS)"
      ],
      "execution_count": 18,
      "outputs": [
        {
          "output_type": "stream",
          "text": [
            "Epoch 1/250\n",
            "125/125 [==============================] - 14s 50ms/step - loss: 1.3328 - accuracy: 0.8070 - val_loss: 0.3912 - val_accuracy: 0.9422\n",
            "Epoch 2/250\n",
            "125/125 [==============================] - 5s 43ms/step - loss: 0.3007 - accuracy: 0.9427 - val_loss: 0.3390 - val_accuracy: 0.9422\n",
            "Epoch 3/250\n",
            "125/125 [==============================] - 5s 42ms/step - loss: 0.2603 - accuracy: 0.9428 - val_loss: 0.3086 - val_accuracy: 0.9422\n",
            "Epoch 4/250\n",
            "125/125 [==============================] - 5s 42ms/step - loss: 0.2447 - accuracy: 0.9425 - val_loss: 0.2697 - val_accuracy: 0.9422\n",
            "Epoch 5/250\n",
            "125/125 [==============================] - 5s 41ms/step - loss: 0.2359 - accuracy: 0.9427 - val_loss: 0.2413 - val_accuracy: 0.9422\n",
            "Epoch 6/250\n",
            "125/125 [==============================] - 5s 42ms/step - loss: 0.2309 - accuracy: 0.9426 - val_loss: 0.2302 - val_accuracy: 0.9422\n",
            "Epoch 7/250\n",
            "125/125 [==============================] - 5s 43ms/step - loss: 0.2265 - accuracy: 0.9426 - val_loss: 0.2253 - val_accuracy: 0.9422\n",
            "Epoch 8/250\n",
            "125/125 [==============================] - 5s 42ms/step - loss: 0.2226 - accuracy: 0.9426 - val_loss: 0.2219 - val_accuracy: 0.9421\n",
            "Epoch 9/250\n",
            "125/125 [==============================] - 5s 43ms/step - loss: 0.2197 - accuracy: 0.9426 - val_loss: 0.2189 - val_accuracy: 0.9421\n",
            "Epoch 10/250\n",
            "125/125 [==============================] - 5s 42ms/step - loss: 0.2179 - accuracy: 0.9422 - val_loss: 0.2162 - val_accuracy: 0.9421\n",
            "Epoch 11/250\n",
            "125/125 [==============================] - 5s 43ms/step - loss: 0.2146 - accuracy: 0.9423 - val_loss: 0.2137 - val_accuracy: 0.9420\n",
            "Epoch 12/250\n",
            "125/125 [==============================] - 5s 43ms/step - loss: 0.2116 - accuracy: 0.9425 - val_loss: 0.2115 - val_accuracy: 0.9420\n",
            "Epoch 13/250\n",
            "125/125 [==============================] - 5s 43ms/step - loss: 0.2091 - accuracy: 0.9425 - val_loss: 0.2092 - val_accuracy: 0.9420\n",
            "Epoch 14/250\n",
            "125/125 [==============================] - 5s 43ms/step - loss: 0.2067 - accuracy: 0.9426 - val_loss: 0.2070 - val_accuracy: 0.9421\n",
            "Epoch 15/250\n",
            "125/125 [==============================] - 5s 43ms/step - loss: 0.2044 - accuracy: 0.9426 - val_loss: 0.2050 - val_accuracy: 0.9420\n",
            "Epoch 16/250\n",
            "125/125 [==============================] - 5s 43ms/step - loss: 0.2027 - accuracy: 0.9425 - val_loss: 0.2029 - val_accuracy: 0.9420\n",
            "Epoch 17/250\n",
            "125/125 [==============================] - 5s 43ms/step - loss: 0.2008 - accuracy: 0.9425 - val_loss: 0.2010 - val_accuracy: 0.9420\n",
            "Epoch 18/250\n",
            "125/125 [==============================] - 5s 43ms/step - loss: 0.1989 - accuracy: 0.9425 - val_loss: 0.1993 - val_accuracy: 0.9421\n",
            "Epoch 19/250\n",
            "125/125 [==============================] - 5s 43ms/step - loss: 0.1967 - accuracy: 0.9428 - val_loss: 0.1976 - val_accuracy: 0.9421\n",
            "Epoch 20/250\n",
            "125/125 [==============================] - 5s 43ms/step - loss: 0.1956 - accuracy: 0.9426 - val_loss: 0.1961 - val_accuracy: 0.9422\n",
            "Epoch 21/250\n",
            "125/125 [==============================] - 5s 43ms/step - loss: 0.1941 - accuracy: 0.9426 - val_loss: 0.1947 - val_accuracy: 0.9422\n",
            "Epoch 22/250\n",
            "125/125 [==============================] - 5s 43ms/step - loss: 0.1929 - accuracy: 0.9426 - val_loss: 0.1936 - val_accuracy: 0.9422\n",
            "Epoch 23/250\n",
            "125/125 [==============================] - 5s 43ms/step - loss: 0.1911 - accuracy: 0.9429 - val_loss: 0.1925 - val_accuracy: 0.9423\n",
            "Epoch 24/250\n",
            "125/125 [==============================] - 5s 43ms/step - loss: 0.1904 - accuracy: 0.9428 - val_loss: 0.1915 - val_accuracy: 0.9423\n",
            "Epoch 25/250\n",
            "125/125 [==============================] - 5s 43ms/step - loss: 0.1894 - accuracy: 0.9429 - val_loss: 0.1906 - val_accuracy: 0.9424\n",
            "Epoch 26/250\n",
            "125/125 [==============================] - 5s 43ms/step - loss: 0.1886 - accuracy: 0.9429 - val_loss: 0.1899 - val_accuracy: 0.9424\n",
            "Epoch 27/250\n",
            "125/125 [==============================] - 5s 43ms/step - loss: 0.1879 - accuracy: 0.9429 - val_loss: 0.1890 - val_accuracy: 0.9426\n",
            "Epoch 28/250\n",
            "125/125 [==============================] - 5s 43ms/step - loss: 0.1872 - accuracy: 0.9430 - val_loss: 0.1883 - val_accuracy: 0.9426\n",
            "Epoch 29/250\n",
            "125/125 [==============================] - 5s 43ms/step - loss: 0.1862 - accuracy: 0.9432 - val_loss: 0.1876 - val_accuracy: 0.9427\n",
            "Epoch 30/250\n",
            "125/125 [==============================] - 5s 43ms/step - loss: 0.1852 - accuracy: 0.9434 - val_loss: 0.1869 - val_accuracy: 0.9428\n",
            "Epoch 31/250\n",
            "125/125 [==============================] - 5s 43ms/step - loss: 0.1854 - accuracy: 0.9432 - val_loss: 0.1864 - val_accuracy: 0.9429\n",
            "Epoch 32/250\n",
            "125/125 [==============================] - 5s 43ms/step - loss: 0.1846 - accuracy: 0.9433 - val_loss: 0.1857 - val_accuracy: 0.9430\n",
            "Epoch 33/250\n",
            "125/125 [==============================] - 5s 43ms/step - loss: 0.1840 - accuracy: 0.9434 - val_loss: 0.1852 - val_accuracy: 0.9431\n",
            "Epoch 34/250\n",
            "125/125 [==============================] - 5s 43ms/step - loss: 0.1833 - accuracy: 0.9436 - val_loss: 0.1846 - val_accuracy: 0.9432\n",
            "Epoch 35/250\n",
            "125/125 [==============================] - 5s 43ms/step - loss: 0.1828 - accuracy: 0.9437 - val_loss: 0.1841 - val_accuracy: 0.9433\n",
            "Epoch 36/250\n",
            "125/125 [==============================] - 5s 43ms/step - loss: 0.1814 - accuracy: 0.9440 - val_loss: 0.1835 - val_accuracy: 0.9434\n",
            "Epoch 37/250\n",
            "125/125 [==============================] - 5s 43ms/step - loss: 0.1820 - accuracy: 0.9438 - val_loss: 0.1830 - val_accuracy: 0.9435\n",
            "Epoch 38/250\n",
            "125/125 [==============================] - 5s 43ms/step - loss: 0.1806 - accuracy: 0.9442 - val_loss: 0.1825 - val_accuracy: 0.9436\n",
            "Epoch 39/250\n",
            "125/125 [==============================] - 5s 43ms/step - loss: 0.1804 - accuracy: 0.9441 - val_loss: 0.1820 - val_accuracy: 0.9437\n",
            "Epoch 40/250\n",
            "125/125 [==============================] - 5s 44ms/step - loss: 0.1799 - accuracy: 0.9443 - val_loss: 0.1815 - val_accuracy: 0.9438\n",
            "Epoch 41/250\n",
            "125/125 [==============================] - 5s 42ms/step - loss: 0.1788 - accuracy: 0.9446 - val_loss: 0.1810 - val_accuracy: 0.9439\n",
            "Epoch 42/250\n",
            "125/125 [==============================] - 5s 43ms/step - loss: 0.1787 - accuracy: 0.9445 - val_loss: 0.1804 - val_accuracy: 0.9440\n",
            "Epoch 43/250\n",
            "125/125 [==============================] - 5s 43ms/step - loss: 0.1782 - accuracy: 0.9446 - val_loss: 0.1798 - val_accuracy: 0.9441\n",
            "Epoch 44/250\n",
            "125/125 [==============================] - 5s 43ms/step - loss: 0.1770 - accuracy: 0.9449 - val_loss: 0.1794 - val_accuracy: 0.9442\n",
            "Epoch 45/250\n",
            "125/125 [==============================] - 5s 43ms/step - loss: 0.1769 - accuracy: 0.9449 - val_loss: 0.1787 - val_accuracy: 0.9443\n",
            "Epoch 46/250\n",
            "125/125 [==============================] - 5s 43ms/step - loss: 0.1763 - accuracy: 0.9450 - val_loss: 0.1780 - val_accuracy: 0.9444\n",
            "Epoch 47/250\n",
            "125/125 [==============================] - 5s 43ms/step - loss: 0.1759 - accuracy: 0.9450 - val_loss: 0.1774 - val_accuracy: 0.9445\n",
            "Epoch 48/250\n",
            "125/125 [==============================] - 5s 42ms/step - loss: 0.1754 - accuracy: 0.9451 - val_loss: 0.1767 - val_accuracy: 0.9446\n",
            "Epoch 49/250\n",
            "125/125 [==============================] - 5s 43ms/step - loss: 0.1748 - accuracy: 0.9452 - val_loss: 0.1760 - val_accuracy: 0.9448\n",
            "Epoch 50/250\n",
            "125/125 [==============================] - 5s 43ms/step - loss: 0.1736 - accuracy: 0.9455 - val_loss: 0.1752 - val_accuracy: 0.9449\n",
            "Epoch 51/250\n",
            "125/125 [==============================] - 5s 43ms/step - loss: 0.1729 - accuracy: 0.9456 - val_loss: 0.1742 - val_accuracy: 0.9451\n",
            "Epoch 52/250\n",
            "125/125 [==============================] - 5s 43ms/step - loss: 0.1718 - accuracy: 0.9459 - val_loss: 0.1733 - val_accuracy: 0.9453\n",
            "Epoch 53/250\n",
            "125/125 [==============================] - 5s 43ms/step - loss: 0.1705 - accuracy: 0.9461 - val_loss: 0.1722 - val_accuracy: 0.9455\n",
            "Epoch 54/250\n",
            "125/125 [==============================] - 5s 43ms/step - loss: 0.1697 - accuracy: 0.9463 - val_loss: 0.1710 - val_accuracy: 0.9457\n",
            "Epoch 55/250\n",
            "125/125 [==============================] - 5s 43ms/step - loss: 0.1683 - accuracy: 0.9466 - val_loss: 0.1697 - val_accuracy: 0.9460\n",
            "Epoch 56/250\n",
            "125/125 [==============================] - 5s 43ms/step - loss: 0.1673 - accuracy: 0.9467 - val_loss: 0.1683 - val_accuracy: 0.9462\n",
            "Epoch 57/250\n",
            "125/125 [==============================] - 5s 43ms/step - loss: 0.1648 - accuracy: 0.9473 - val_loss: 0.1663 - val_accuracy: 0.9465\n",
            "Epoch 58/250\n",
            "125/125 [==============================] - 5s 43ms/step - loss: 0.1631 - accuracy: 0.9476 - val_loss: 0.1646 - val_accuracy: 0.9469\n",
            "Epoch 59/250\n",
            "125/125 [==============================] - 5s 43ms/step - loss: 0.1621 - accuracy: 0.9476 - val_loss: 0.1623 - val_accuracy: 0.9472\n",
            "Epoch 60/250\n",
            "125/125 [==============================] - 5s 43ms/step - loss: 0.1600 - accuracy: 0.9479 - val_loss: 0.1600 - val_accuracy: 0.9475\n",
            "Epoch 61/250\n",
            "125/125 [==============================] - 5s 43ms/step - loss: 0.1577 - accuracy: 0.9483 - val_loss: 0.1578 - val_accuracy: 0.9478\n",
            "Epoch 62/250\n",
            "125/125 [==============================] - 5s 43ms/step - loss: 0.1558 - accuracy: 0.9486 - val_loss: 0.1554 - val_accuracy: 0.9482\n",
            "Epoch 63/250\n",
            "125/125 [==============================] - 5s 43ms/step - loss: 0.1528 - accuracy: 0.9491 - val_loss: 0.1532 - val_accuracy: 0.9487\n",
            "Epoch 64/250\n",
            "125/125 [==============================] - 5s 43ms/step - loss: 0.1508 - accuracy: 0.9494 - val_loss: 0.1508 - val_accuracy: 0.9490\n",
            "Epoch 65/250\n",
            "125/125 [==============================] - 5s 43ms/step - loss: 0.1484 - accuracy: 0.9499 - val_loss: 0.1489 - val_accuracy: 0.9492\n",
            "Epoch 66/250\n",
            "125/125 [==============================] - 5s 43ms/step - loss: 0.1462 - accuracy: 0.9503 - val_loss: 0.1468 - val_accuracy: 0.9497\n",
            "Epoch 67/250\n",
            "125/125 [==============================] - 5s 42ms/step - loss: 0.1444 - accuracy: 0.9507 - val_loss: 0.1451 - val_accuracy: 0.9501\n",
            "Epoch 68/250\n",
            "125/125 [==============================] - 5s 43ms/step - loss: 0.1424 - accuracy: 0.9512 - val_loss: 0.1437 - val_accuracy: 0.9500\n",
            "Epoch 69/250\n",
            "125/125 [==============================] - 5s 43ms/step - loss: 0.1410 - accuracy: 0.9515 - val_loss: 0.1417 - val_accuracy: 0.9510\n",
            "Epoch 70/250\n",
            "125/125 [==============================] - 5s 43ms/step - loss: 0.1393 - accuracy: 0.9520 - val_loss: 0.1398 - val_accuracy: 0.9512\n",
            "Epoch 71/250\n",
            "125/125 [==============================] - 5s 43ms/step - loss: 0.1376 - accuracy: 0.9523 - val_loss: 0.1387 - val_accuracy: 0.9514\n",
            "Epoch 72/250\n",
            "125/125 [==============================] - 5s 42ms/step - loss: 0.1363 - accuracy: 0.9528 - val_loss: 0.1401 - val_accuracy: 0.9518\n",
            "Epoch 73/250\n",
            "125/125 [==============================] - 5s 43ms/step - loss: 0.1346 - accuracy: 0.9533 - val_loss: 0.1359 - val_accuracy: 0.9525\n",
            "Epoch 74/250\n",
            "125/125 [==============================] - 5s 43ms/step - loss: 0.1334 - accuracy: 0.9536 - val_loss: 0.1345 - val_accuracy: 0.9526\n",
            "Epoch 75/250\n",
            "125/125 [==============================] - 5s 43ms/step - loss: 0.1317 - accuracy: 0.9541 - val_loss: 0.1340 - val_accuracy: 0.9532\n",
            "Epoch 76/250\n",
            "125/125 [==============================] - 5s 43ms/step - loss: 0.1299 - accuracy: 0.9547 - val_loss: 0.1323 - val_accuracy: 0.9531\n",
            "Epoch 77/250\n",
            "125/125 [==============================] - 5s 42ms/step - loss: 0.1288 - accuracy: 0.9550 - val_loss: 0.1304 - val_accuracy: 0.9540\n",
            "Epoch 78/250\n",
            "125/125 [==============================] - 5s 43ms/step - loss: 0.1274 - accuracy: 0.9555 - val_loss: 0.1286 - val_accuracy: 0.9548\n",
            "Epoch 79/250\n",
            "125/125 [==============================] - 5s 43ms/step - loss: 0.1256 - accuracy: 0.9560 - val_loss: 0.1283 - val_accuracy: 0.9552\n",
            "Epoch 80/250\n",
            "125/125 [==============================] - 5s 43ms/step - loss: 0.1243 - accuracy: 0.9566 - val_loss: 0.1259 - val_accuracy: 0.9556\n",
            "Epoch 81/250\n",
            "125/125 [==============================] - 5s 43ms/step - loss: 0.1228 - accuracy: 0.9570 - val_loss: 0.1241 - val_accuracy: 0.9562\n",
            "Epoch 82/250\n",
            "125/125 [==============================] - 5s 43ms/step - loss: 0.1209 - accuracy: 0.9578 - val_loss: 0.1244 - val_accuracy: 0.9567\n",
            "Epoch 83/250\n",
            "125/125 [==============================] - 5s 43ms/step - loss: 0.1194 - accuracy: 0.9583 - val_loss: 0.1211 - val_accuracy: 0.9570\n",
            "Epoch 84/250\n",
            "125/125 [==============================] - 5s 43ms/step - loss: 0.1181 - accuracy: 0.9586 - val_loss: 0.1209 - val_accuracy: 0.9575\n",
            "Epoch 85/250\n",
            "125/125 [==============================] - 5s 43ms/step - loss: 0.1164 - accuracy: 0.9593 - val_loss: 0.1176 - val_accuracy: 0.9585\n",
            "Epoch 86/250\n",
            "125/125 [==============================] - 5s 43ms/step - loss: 0.1148 - accuracy: 0.9598 - val_loss: 0.1178 - val_accuracy: 0.9588\n",
            "Epoch 87/250\n",
            "125/125 [==============================] - 5s 43ms/step - loss: 0.1126 - accuracy: 0.9606 - val_loss: 0.1153 - val_accuracy: 0.9593\n",
            "Epoch 88/250\n",
            "125/125 [==============================] - 5s 43ms/step - loss: 0.1117 - accuracy: 0.9609 - val_loss: 0.1129 - val_accuracy: 0.9604\n",
            "Epoch 89/250\n",
            "125/125 [==============================] - 5s 43ms/step - loss: 0.1095 - accuracy: 0.9617 - val_loss: 0.1112 - val_accuracy: 0.9607\n",
            "Epoch 90/250\n",
            "125/125 [==============================] - 5s 43ms/step - loss: 0.1078 - accuracy: 0.9623 - val_loss: 0.1121 - val_accuracy: 0.9601\n",
            "Epoch 91/250\n",
            "125/125 [==============================] - 5s 43ms/step - loss: 0.1058 - accuracy: 0.9630 - val_loss: 0.1084 - val_accuracy: 0.9620\n",
            "Epoch 92/250\n",
            "125/125 [==============================] - 5s 42ms/step - loss: 0.1044 - accuracy: 0.9635 - val_loss: 0.1088 - val_accuracy: 0.9612\n",
            "Epoch 93/250\n",
            "125/125 [==============================] - 5s 43ms/step - loss: 0.1028 - accuracy: 0.9641 - val_loss: 0.1062 - val_accuracy: 0.9621\n",
            "Epoch 94/250\n",
            "125/125 [==============================] - 5s 43ms/step - loss: 0.1008 - accuracy: 0.9647 - val_loss: 0.1044 - val_accuracy: 0.9631\n",
            "Epoch 95/250\n",
            "125/125 [==============================] - 5s 43ms/step - loss: 0.0988 - accuracy: 0.9655 - val_loss: 0.1019 - val_accuracy: 0.9641\n",
            "Epoch 96/250\n",
            "125/125 [==============================] - 5s 43ms/step - loss: 0.0976 - accuracy: 0.9660 - val_loss: 0.1006 - val_accuracy: 0.9645\n",
            "Epoch 97/250\n",
            "125/125 [==============================] - 5s 43ms/step - loss: 0.0955 - accuracy: 0.9667 - val_loss: 0.0999 - val_accuracy: 0.9650\n",
            "Epoch 98/250\n",
            "125/125 [==============================] - 5s 43ms/step - loss: 0.0941 - accuracy: 0.9673 - val_loss: 0.0989 - val_accuracy: 0.9648\n",
            "Epoch 99/250\n",
            "125/125 [==============================] - 5s 43ms/step - loss: 0.0929 - accuracy: 0.9675 - val_loss: 0.0965 - val_accuracy: 0.9655\n",
            "Epoch 100/250\n",
            "125/125 [==============================] - 5s 43ms/step - loss: 0.0903 - accuracy: 0.9685 - val_loss: 0.0961 - val_accuracy: 0.9661\n",
            "Epoch 101/250\n",
            "125/125 [==============================] - 5s 43ms/step - loss: 0.0898 - accuracy: 0.9688 - val_loss: 0.0965 - val_accuracy: 0.9654\n",
            "Epoch 102/250\n",
            "125/125 [==============================] - 5s 43ms/step - loss: 0.0875 - accuracy: 0.9695 - val_loss: 0.0921 - val_accuracy: 0.9675\n",
            "Epoch 103/250\n",
            "125/125 [==============================] - 5s 43ms/step - loss: 0.0858 - accuracy: 0.9702 - val_loss: 0.0904 - val_accuracy: 0.9680\n",
            "Epoch 104/250\n",
            "125/125 [==============================] - 5s 43ms/step - loss: 0.0843 - accuracy: 0.9708 - val_loss: 0.0921 - val_accuracy: 0.9673\n",
            "Epoch 105/250\n",
            "125/125 [==============================] - 5s 43ms/step - loss: 0.0829 - accuracy: 0.9711 - val_loss: 0.0875 - val_accuracy: 0.9693\n",
            "Epoch 106/250\n",
            "125/125 [==============================] - 5s 43ms/step - loss: 0.0808 - accuracy: 0.9718 - val_loss: 0.0880 - val_accuracy: 0.9690\n",
            "Epoch 107/250\n",
            "125/125 [==============================] - 5s 43ms/step - loss: 0.0799 - accuracy: 0.9722 - val_loss: 0.0866 - val_accuracy: 0.9694\n",
            "Epoch 108/250\n",
            "125/125 [==============================] - 5s 43ms/step - loss: 0.0777 - accuracy: 0.9729 - val_loss: 0.0852 - val_accuracy: 0.9698\n",
            "Epoch 109/250\n",
            "125/125 [==============================] - 5s 42ms/step - loss: 0.0767 - accuracy: 0.9732 - val_loss: 0.0829 - val_accuracy: 0.9705\n",
            "Epoch 110/250\n",
            "125/125 [==============================] - 5s 43ms/step - loss: 0.0752 - accuracy: 0.9736 - val_loss: 0.0835 - val_accuracy: 0.9702\n",
            "Epoch 111/250\n",
            "125/125 [==============================] - 5s 43ms/step - loss: 0.0740 - accuracy: 0.9740 - val_loss: 0.0800 - val_accuracy: 0.9715\n",
            "Epoch 112/250\n",
            "125/125 [==============================] - 5s 43ms/step - loss: 0.0727 - accuracy: 0.9743 - val_loss: 0.0800 - val_accuracy: 0.9716\n",
            "Epoch 113/250\n",
            "125/125 [==============================] - 5s 43ms/step - loss: 0.0716 - accuracy: 0.9747 - val_loss: 0.0797 - val_accuracy: 0.9712\n",
            "Epoch 114/250\n",
            "125/125 [==============================] - 5s 43ms/step - loss: 0.0700 - accuracy: 0.9751 - val_loss: 0.0782 - val_accuracy: 0.9721\n",
            "Epoch 115/250\n",
            "125/125 [==============================] - 5s 43ms/step - loss: 0.0692 - accuracy: 0.9753 - val_loss: 0.0809 - val_accuracy: 0.9712\n",
            "Epoch 116/250\n",
            "125/125 [==============================] - 5s 43ms/step - loss: 0.0682 - accuracy: 0.9756 - val_loss: 0.0784 - val_accuracy: 0.9713\n",
            "Epoch 117/250\n",
            "125/125 [==============================] - 5s 43ms/step - loss: 0.0666 - accuracy: 0.9760 - val_loss: 0.0742 - val_accuracy: 0.9730\n",
            "Epoch 118/250\n",
            "125/125 [==============================] - 5s 43ms/step - loss: 0.0655 - accuracy: 0.9764 - val_loss: 0.0729 - val_accuracy: 0.9736\n",
            "Epoch 119/250\n",
            "125/125 [==============================] - 5s 43ms/step - loss: 0.0649 - accuracy: 0.9766 - val_loss: 0.0716 - val_accuracy: 0.9742\n",
            "Epoch 120/250\n",
            "125/125 [==============================] - 5s 43ms/step - loss: 0.0639 - accuracy: 0.9768 - val_loss: 0.0721 - val_accuracy: 0.9740\n",
            "Epoch 121/250\n",
            "125/125 [==============================] - 5s 43ms/step - loss: 0.0629 - accuracy: 0.9771 - val_loss: 0.0775 - val_accuracy: 0.9715\n",
            "Epoch 122/250\n",
            "125/125 [==============================] - 5s 43ms/step - loss: 0.0627 - accuracy: 0.9771 - val_loss: 0.0723 - val_accuracy: 0.9737\n",
            "Epoch 123/250\n",
            "125/125 [==============================] - 5s 43ms/step - loss: 0.0617 - accuracy: 0.9774 - val_loss: 0.0722 - val_accuracy: 0.9737\n",
            "Epoch 124/250\n",
            "125/125 [==============================] - 5s 43ms/step - loss: 0.0609 - accuracy: 0.9776 - val_loss: 0.0715 - val_accuracy: 0.9736\n",
            "Epoch 125/250\n",
            "125/125 [==============================] - 5s 43ms/step - loss: 0.0597 - accuracy: 0.9780 - val_loss: 0.0675 - val_accuracy: 0.9754\n",
            "Epoch 126/250\n",
            "125/125 [==============================] - 5s 43ms/step - loss: 0.0592 - accuracy: 0.9782 - val_loss: 0.0688 - val_accuracy: 0.9750\n",
            "Epoch 127/250\n",
            "125/125 [==============================] - 5s 43ms/step - loss: 0.0586 - accuracy: 0.9784 - val_loss: 0.0692 - val_accuracy: 0.9746\n",
            "Epoch 128/250\n",
            "125/125 [==============================] - 5s 43ms/step - loss: 0.0580 - accuracy: 0.9786 - val_loss: 0.0665 - val_accuracy: 0.9756\n",
            "Epoch 129/250\n",
            "125/125 [==============================] - 5s 43ms/step - loss: 0.0572 - accuracy: 0.9787 - val_loss: 0.0665 - val_accuracy: 0.9753\n",
            "Epoch 130/250\n",
            "125/125 [==============================] - 5s 43ms/step - loss: 0.0564 - accuracy: 0.9790 - val_loss: 0.0669 - val_accuracy: 0.9750\n",
            "Epoch 131/250\n",
            "125/125 [==============================] - 5s 43ms/step - loss: 0.0561 - accuracy: 0.9791 - val_loss: 0.0652 - val_accuracy: 0.9759\n",
            "Epoch 132/250\n",
            "125/125 [==============================] - 5s 43ms/step - loss: 0.0556 - accuracy: 0.9792 - val_loss: 0.0666 - val_accuracy: 0.9750\n",
            "Epoch 133/250\n",
            "125/125 [==============================] - 5s 43ms/step - loss: 0.0545 - accuracy: 0.9796 - val_loss: 0.0648 - val_accuracy: 0.9760\n",
            "Epoch 134/250\n",
            "125/125 [==============================] - 5s 43ms/step - loss: 0.0544 - accuracy: 0.9797 - val_loss: 0.0660 - val_accuracy: 0.9753\n",
            "Epoch 135/250\n",
            "125/125 [==============================] - 5s 43ms/step - loss: 0.0537 - accuracy: 0.9799 - val_loss: 0.0640 - val_accuracy: 0.9761\n",
            "Epoch 136/250\n",
            "125/125 [==============================] - 5s 42ms/step - loss: 0.0534 - accuracy: 0.9799 - val_loss: 0.0641 - val_accuracy: 0.9761\n",
            "Epoch 137/250\n",
            "125/125 [==============================] - 5s 43ms/step - loss: 0.0530 - accuracy: 0.9801 - val_loss: 0.0632 - val_accuracy: 0.9765\n",
            "Epoch 138/250\n",
            "125/125 [==============================] - 5s 43ms/step - loss: 0.0524 - accuracy: 0.9802 - val_loss: 0.0634 - val_accuracy: 0.9766\n",
            "Epoch 139/250\n",
            "125/125 [==============================] - 5s 44ms/step - loss: 0.0519 - accuracy: 0.9804 - val_loss: 0.0650 - val_accuracy: 0.9758\n",
            "Epoch 140/250\n",
            "125/125 [==============================] - 5s 43ms/step - loss: 0.0514 - accuracy: 0.9806 - val_loss: 0.0628 - val_accuracy: 0.9767\n",
            "Epoch 141/250\n",
            "125/125 [==============================] - 5s 43ms/step - loss: 0.0511 - accuracy: 0.9807 - val_loss: 0.0622 - val_accuracy: 0.9768\n",
            "Epoch 142/250\n",
            "125/125 [==============================] - 5s 43ms/step - loss: 0.0508 - accuracy: 0.9808 - val_loss: 0.0631 - val_accuracy: 0.9767\n",
            "Epoch 143/250\n",
            "125/125 [==============================] - 5s 43ms/step - loss: 0.0504 - accuracy: 0.9809 - val_loss: 0.0625 - val_accuracy: 0.9765\n",
            "Epoch 144/250\n",
            "125/125 [==============================] - 5s 43ms/step - loss: 0.0499 - accuracy: 0.9811 - val_loss: 0.0618 - val_accuracy: 0.9771\n",
            "Epoch 145/250\n",
            "125/125 [==============================] - 5s 43ms/step - loss: 0.0498 - accuracy: 0.9811 - val_loss: 0.0617 - val_accuracy: 0.9768\n",
            "Epoch 146/250\n",
            "125/125 [==============================] - 5s 43ms/step - loss: 0.0491 - accuracy: 0.9813 - val_loss: 0.0644 - val_accuracy: 0.9759\n",
            "Epoch 147/250\n",
            "125/125 [==============================] - 5s 43ms/step - loss: 0.0490 - accuracy: 0.9813 - val_loss: 0.0612 - val_accuracy: 0.9772\n",
            "Epoch 148/250\n",
            "125/125 [==============================] - 5s 43ms/step - loss: 0.0484 - accuracy: 0.9815 - val_loss: 0.0616 - val_accuracy: 0.9769\n",
            "Epoch 149/250\n",
            "125/125 [==============================] - 5s 43ms/step - loss: 0.0482 - accuracy: 0.9816 - val_loss: 0.0607 - val_accuracy: 0.9775\n",
            "Epoch 150/250\n",
            "125/125 [==============================] - 5s 43ms/step - loss: 0.0477 - accuracy: 0.9818 - val_loss: 0.0610 - val_accuracy: 0.9774\n",
            "Epoch 151/250\n",
            "125/125 [==============================] - 5s 43ms/step - loss: 0.0473 - accuracy: 0.9819 - val_loss: 0.0624 - val_accuracy: 0.9770\n",
            "Epoch 152/250\n",
            "125/125 [==============================] - 5s 43ms/step - loss: 0.0472 - accuracy: 0.9819 - val_loss: 0.0612 - val_accuracy: 0.9774\n",
            "Epoch 153/250\n",
            "125/125 [==============================] - 5s 43ms/step - loss: 0.0469 - accuracy: 0.9821 - val_loss: 0.0604 - val_accuracy: 0.9776\n",
            "Epoch 154/250\n",
            "125/125 [==============================] - 5s 43ms/step - loss: 0.0469 - accuracy: 0.9820 - val_loss: 0.0597 - val_accuracy: 0.9778\n",
            "Epoch 155/250\n",
            "125/125 [==============================] - 5s 43ms/step - loss: 0.0463 - accuracy: 0.9823 - val_loss: 0.0602 - val_accuracy: 0.9777\n",
            "Epoch 156/250\n",
            "125/125 [==============================] - 5s 43ms/step - loss: 0.0460 - accuracy: 0.9824 - val_loss: 0.0601 - val_accuracy: 0.9775\n",
            "Epoch 157/250\n",
            "125/125 [==============================] - 5s 43ms/step - loss: 0.0463 - accuracy: 0.9822 - val_loss: 0.0597 - val_accuracy: 0.9778\n",
            "Epoch 158/250\n",
            "125/125 [==============================] - 5s 43ms/step - loss: 0.0453 - accuracy: 0.9826 - val_loss: 0.0629 - val_accuracy: 0.9767\n",
            "Epoch 159/250\n",
            "125/125 [==============================] - 5s 43ms/step - loss: 0.0451 - accuracy: 0.9827 - val_loss: 0.0601 - val_accuracy: 0.9776\n",
            "Epoch 160/250\n",
            "125/125 [==============================] - 5s 43ms/step - loss: 0.0452 - accuracy: 0.9826 - val_loss: 0.0627 - val_accuracy: 0.9772\n",
            "Epoch 161/250\n",
            "125/125 [==============================] - 5s 43ms/step - loss: 0.0447 - accuracy: 0.9828 - val_loss: 0.0629 - val_accuracy: 0.9771\n",
            "Epoch 162/250\n",
            "125/125 [==============================] - 5s 43ms/step - loss: 0.0444 - accuracy: 0.9829 - val_loss: 0.0585 - val_accuracy: 0.9784\n",
            "Epoch 163/250\n",
            "125/125 [==============================] - 5s 43ms/step - loss: 0.0441 - accuracy: 0.9830 - val_loss: 0.0629 - val_accuracy: 0.9765\n",
            "Epoch 164/250\n",
            "125/125 [==============================] - 5s 43ms/step - loss: 0.0441 - accuracy: 0.9830 - val_loss: 0.0592 - val_accuracy: 0.9778\n",
            "Epoch 165/250\n",
            "125/125 [==============================] - 5s 43ms/step - loss: 0.0436 - accuracy: 0.9832 - val_loss: 0.0583 - val_accuracy: 0.9784\n",
            "Epoch 166/250\n",
            "125/125 [==============================] - 5s 43ms/step - loss: 0.0433 - accuracy: 0.9833 - val_loss: 0.0602 - val_accuracy: 0.9780\n",
            "Epoch 167/250\n",
            "125/125 [==============================] - 5s 43ms/step - loss: 0.0434 - accuracy: 0.9833 - val_loss: 0.0580 - val_accuracy: 0.9786\n",
            "Epoch 168/250\n",
            "125/125 [==============================] - 5s 43ms/step - loss: 0.0430 - accuracy: 0.9834 - val_loss: 0.0598 - val_accuracy: 0.9780\n",
            "Epoch 169/250\n",
            "125/125 [==============================] - 5s 43ms/step - loss: 0.0428 - accuracy: 0.9835 - val_loss: 0.0580 - val_accuracy: 0.9785\n",
            "Epoch 170/250\n",
            "125/125 [==============================] - 5s 43ms/step - loss: 0.0427 - accuracy: 0.9835 - val_loss: 0.0644 - val_accuracy: 0.9770\n",
            "Epoch 171/250\n",
            "125/125 [==============================] - 5s 43ms/step - loss: 0.0425 - accuracy: 0.9836 - val_loss: 0.0579 - val_accuracy: 0.9785\n",
            "Epoch 172/250\n",
            "125/125 [==============================] - 5s 43ms/step - loss: 0.0422 - accuracy: 0.9837 - val_loss: 0.0586 - val_accuracy: 0.9783\n",
            "Epoch 173/250\n",
            "125/125 [==============================] - 5s 43ms/step - loss: 0.0420 - accuracy: 0.9837 - val_loss: 0.0583 - val_accuracy: 0.9785\n",
            "Epoch 174/250\n",
            "125/125 [==============================] - 5s 43ms/step - loss: 0.0417 - accuracy: 0.9838 - val_loss: 0.0582 - val_accuracy: 0.9786\n",
            "Epoch 175/250\n",
            "125/125 [==============================] - 5s 43ms/step - loss: 0.0417 - accuracy: 0.9839 - val_loss: 0.0567 - val_accuracy: 0.9790\n",
            "Epoch 176/250\n",
            "125/125 [==============================] - 5s 43ms/step - loss: 0.0413 - accuracy: 0.9840 - val_loss: 0.0580 - val_accuracy: 0.9786\n",
            "Epoch 177/250\n",
            "125/125 [==============================] - 5s 43ms/step - loss: 0.0413 - accuracy: 0.9840 - val_loss: 0.0575 - val_accuracy: 0.9788\n",
            "Epoch 178/250\n",
            "125/125 [==============================] - 5s 43ms/step - loss: 0.0409 - accuracy: 0.9842 - val_loss: 0.0584 - val_accuracy: 0.9787\n",
            "Epoch 179/250\n",
            "125/125 [==============================] - 5s 43ms/step - loss: 0.0407 - accuracy: 0.9842 - val_loss: 0.0589 - val_accuracy: 0.9782\n",
            "Epoch 180/250\n",
            "125/125 [==============================] - 5s 43ms/step - loss: 0.0407 - accuracy: 0.9842 - val_loss: 0.0583 - val_accuracy: 0.9786\n",
            "Epoch 181/250\n",
            "125/125 [==============================] - 5s 43ms/step - loss: 0.0405 - accuracy: 0.9843 - val_loss: 0.0567 - val_accuracy: 0.9790\n",
            "Epoch 182/250\n",
            "125/125 [==============================] - 5s 43ms/step - loss: 0.0402 - accuracy: 0.9844 - val_loss: 0.0580 - val_accuracy: 0.9787\n",
            "Epoch 183/250\n",
            "125/125 [==============================] - 5s 43ms/step - loss: 0.0401 - accuracy: 0.9844 - val_loss: 0.0581 - val_accuracy: 0.9787\n",
            "Epoch 184/250\n",
            "125/125 [==============================] - 5s 43ms/step - loss: 0.0401 - accuracy: 0.9844 - val_loss: 0.0589 - val_accuracy: 0.9786\n",
            "Epoch 185/250\n",
            "125/125 [==============================] - 5s 43ms/step - loss: 0.0399 - accuracy: 0.9845 - val_loss: 0.0565 - val_accuracy: 0.9791\n",
            "Epoch 186/250\n",
            "125/125 [==============================] - 5s 43ms/step - loss: 0.0398 - accuracy: 0.9845 - val_loss: 0.0581 - val_accuracy: 0.9789\n",
            "Epoch 187/250\n",
            "125/125 [==============================] - 5s 43ms/step - loss: 0.0394 - accuracy: 0.9847 - val_loss: 0.0567 - val_accuracy: 0.9792\n",
            "Epoch 188/250\n",
            "125/125 [==============================] - 5s 43ms/step - loss: 0.0393 - accuracy: 0.9848 - val_loss: 0.0564 - val_accuracy: 0.9792\n",
            "Epoch 189/250\n",
            "125/125 [==============================] - 5s 43ms/step - loss: 0.0392 - accuracy: 0.9847 - val_loss: 0.0565 - val_accuracy: 0.9793\n",
            "Epoch 190/250\n",
            "125/125 [==============================] - 5s 43ms/step - loss: 0.0392 - accuracy: 0.9847 - val_loss: 0.0562 - val_accuracy: 0.9794\n",
            "Epoch 191/250\n",
            "125/125 [==============================] - 5s 43ms/step - loss: 0.0389 - accuracy: 0.9848 - val_loss: 0.0570 - val_accuracy: 0.9794\n",
            "Epoch 192/250\n",
            "125/125 [==============================] - 5s 43ms/step - loss: 0.0387 - accuracy: 0.9849 - val_loss: 0.0557 - val_accuracy: 0.9796\n",
            "Epoch 193/250\n",
            "125/125 [==============================] - 5s 42ms/step - loss: 0.0386 - accuracy: 0.9850 - val_loss: 0.0577 - val_accuracy: 0.9790\n",
            "Epoch 194/250\n",
            "125/125 [==============================] - 5s 43ms/step - loss: 0.0385 - accuracy: 0.9850 - val_loss: 0.0574 - val_accuracy: 0.9791\n",
            "Epoch 195/250\n",
            "125/125 [==============================] - 5s 43ms/step - loss: 0.0384 - accuracy: 0.9850 - val_loss: 0.0558 - val_accuracy: 0.9796\n",
            "Epoch 196/250\n",
            "125/125 [==============================] - 5s 43ms/step - loss: 0.0382 - accuracy: 0.9851 - val_loss: 0.0560 - val_accuracy: 0.9795\n",
            "Epoch 197/250\n",
            "125/125 [==============================] - 5s 43ms/step - loss: 0.0380 - accuracy: 0.9852 - val_loss: 0.0552 - val_accuracy: 0.9797\n",
            "Epoch 198/250\n",
            "125/125 [==============================] - 5s 43ms/step - loss: 0.0380 - accuracy: 0.9852 - val_loss: 0.0563 - val_accuracy: 0.9795\n",
            "Epoch 199/250\n",
            "125/125 [==============================] - 5s 43ms/step - loss: 0.0378 - accuracy: 0.9853 - val_loss: 0.0559 - val_accuracy: 0.9795\n",
            "Epoch 200/250\n",
            "125/125 [==============================] - 5s 43ms/step - loss: 0.0376 - accuracy: 0.9853 - val_loss: 0.0551 - val_accuracy: 0.9798\n",
            "Epoch 201/250\n",
            "125/125 [==============================] - 5s 43ms/step - loss: 0.0372 - accuracy: 0.9855 - val_loss: 0.0563 - val_accuracy: 0.9792\n",
            "Epoch 202/250\n",
            "125/125 [==============================] - 5s 43ms/step - loss: 0.0373 - accuracy: 0.9854 - val_loss: 0.0552 - val_accuracy: 0.9797\n",
            "Epoch 203/250\n",
            "125/125 [==============================] - 5s 43ms/step - loss: 0.0371 - accuracy: 0.9855 - val_loss: 0.0556 - val_accuracy: 0.9797\n",
            "Epoch 204/250\n",
            "125/125 [==============================] - 5s 43ms/step - loss: 0.0369 - accuracy: 0.9856 - val_loss: 0.0551 - val_accuracy: 0.9798\n",
            "Epoch 205/250\n",
            "125/125 [==============================] - 5s 44ms/step - loss: 0.0369 - accuracy: 0.9856 - val_loss: 0.0554 - val_accuracy: 0.9798\n",
            "Epoch 206/250\n",
            "125/125 [==============================] - 5s 43ms/step - loss: 0.0370 - accuracy: 0.9856 - val_loss: 0.0554 - val_accuracy: 0.9797\n",
            "Epoch 207/250\n",
            "125/125 [==============================] - 5s 43ms/step - loss: 0.0366 - accuracy: 0.9857 - val_loss: 0.0555 - val_accuracy: 0.9796\n",
            "Epoch 208/250\n",
            "125/125 [==============================] - 5s 43ms/step - loss: 0.0368 - accuracy: 0.9856 - val_loss: 0.0561 - val_accuracy: 0.9797\n",
            "Epoch 209/250\n",
            "125/125 [==============================] - 5s 43ms/step - loss: 0.0365 - accuracy: 0.9857 - val_loss: 0.0554 - val_accuracy: 0.9799\n",
            "Epoch 210/250\n",
            "125/125 [==============================] - 5s 43ms/step - loss: 0.0364 - accuracy: 0.9858 - val_loss: 0.0558 - val_accuracy: 0.9797\n",
            "Epoch 211/250\n",
            "125/125 [==============================] - 5s 43ms/step - loss: 0.0363 - accuracy: 0.9858 - val_loss: 0.0557 - val_accuracy: 0.9795\n",
            "Epoch 212/250\n",
            "125/125 [==============================] - 5s 43ms/step - loss: 0.0359 - accuracy: 0.9860 - val_loss: 0.0546 - val_accuracy: 0.9799\n",
            "Epoch 213/250\n",
            "125/125 [==============================] - 5s 43ms/step - loss: 0.0360 - accuracy: 0.9859 - val_loss: 0.0556 - val_accuracy: 0.9796\n",
            "Epoch 214/250\n",
            "125/125 [==============================] - 5s 43ms/step - loss: 0.0361 - accuracy: 0.9859 - val_loss: 0.0557 - val_accuracy: 0.9798\n",
            "Epoch 215/250\n",
            "125/125 [==============================] - 5s 43ms/step - loss: 0.0359 - accuracy: 0.9860 - val_loss: 0.0546 - val_accuracy: 0.9801\n",
            "Epoch 216/250\n",
            "125/125 [==============================] - 5s 43ms/step - loss: 0.0357 - accuracy: 0.9860 - val_loss: 0.0574 - val_accuracy: 0.9795\n",
            "Epoch 217/250\n",
            "125/125 [==============================] - 5s 43ms/step - loss: 0.0356 - accuracy: 0.9861 - val_loss: 0.0571 - val_accuracy: 0.9796\n",
            "Epoch 218/250\n",
            "125/125 [==============================] - 5s 43ms/step - loss: 0.0355 - accuracy: 0.9861 - val_loss: 0.0571 - val_accuracy: 0.9795\n",
            "Epoch 219/250\n",
            "125/125 [==============================] - 5s 43ms/step - loss: 0.0354 - accuracy: 0.9862 - val_loss: 0.0552 - val_accuracy: 0.9800\n",
            "Epoch 220/250\n",
            "125/125 [==============================] - 5s 43ms/step - loss: 0.0350 - accuracy: 0.9863 - val_loss: 0.0562 - val_accuracy: 0.9797\n",
            "Epoch 221/250\n",
            "125/125 [==============================] - 5s 43ms/step - loss: 0.0353 - accuracy: 0.9862 - val_loss: 0.0547 - val_accuracy: 0.9800\n",
            "Epoch 222/250\n",
            "125/125 [==============================] - 5s 43ms/step - loss: 0.0351 - accuracy: 0.9863 - val_loss: 0.0555 - val_accuracy: 0.9798\n",
            "Epoch 223/250\n",
            "125/125 [==============================] - 5s 43ms/step - loss: 0.0351 - accuracy: 0.9863 - val_loss: 0.0552 - val_accuracy: 0.9801\n",
            "Epoch 224/250\n",
            "125/125 [==============================] - 5s 43ms/step - loss: 0.0348 - accuracy: 0.9864 - val_loss: 0.0540 - val_accuracy: 0.9803\n",
            "Epoch 225/250\n",
            "125/125 [==============================] - 5s 43ms/step - loss: 0.0349 - accuracy: 0.9863 - val_loss: 0.0549 - val_accuracy: 0.9802\n",
            "Epoch 226/250\n",
            "125/125 [==============================] - 5s 43ms/step - loss: 0.0348 - accuracy: 0.9864 - val_loss: 0.0555 - val_accuracy: 0.9801\n",
            "Epoch 227/250\n",
            "125/125 [==============================] - 5s 43ms/step - loss: 0.0347 - accuracy: 0.9864 - val_loss: 0.0545 - val_accuracy: 0.9801\n",
            "Epoch 228/250\n",
            "125/125 [==============================] - 5s 43ms/step - loss: 0.0346 - accuracy: 0.9865 - val_loss: 0.0554 - val_accuracy: 0.9801\n",
            "Epoch 229/250\n",
            "125/125 [==============================] - 5s 43ms/step - loss: 0.0344 - accuracy: 0.9865 - val_loss: 0.0586 - val_accuracy: 0.9791\n",
            "Epoch 230/250\n",
            "125/125 [==============================] - 5s 43ms/step - loss: 0.0342 - accuracy: 0.9866 - val_loss: 0.0564 - val_accuracy: 0.9799\n",
            "Epoch 231/250\n",
            "125/125 [==============================] - 5s 43ms/step - loss: 0.0340 - accuracy: 0.9867 - val_loss: 0.0544 - val_accuracy: 0.9804\n",
            "Epoch 232/250\n",
            "125/125 [==============================] - 5s 43ms/step - loss: 0.0343 - accuracy: 0.9866 - val_loss: 0.0552 - val_accuracy: 0.9801\n",
            "Epoch 233/250\n",
            "125/125 [==============================] - 5s 43ms/step - loss: 0.0338 - accuracy: 0.9867 - val_loss: 0.0547 - val_accuracy: 0.9802\n",
            "Epoch 234/250\n",
            "125/125 [==============================] - 5s 43ms/step - loss: 0.0341 - accuracy: 0.9867 - val_loss: 0.0546 - val_accuracy: 0.9804\n",
            "Epoch 235/250\n",
            "125/125 [==============================] - 5s 43ms/step - loss: 0.0339 - accuracy: 0.9868 - val_loss: 0.0558 - val_accuracy: 0.9801\n",
            "Epoch 236/250\n",
            "125/125 [==============================] - 5s 43ms/step - loss: 0.0338 - accuracy: 0.9867 - val_loss: 0.0546 - val_accuracy: 0.9803\n",
            "Epoch 237/250\n",
            "125/125 [==============================] - 5s 43ms/step - loss: 0.0337 - accuracy: 0.9868 - val_loss: 0.0545 - val_accuracy: 0.9802\n",
            "Epoch 238/250\n",
            "125/125 [==============================] - 5s 44ms/step - loss: 0.0338 - accuracy: 0.9868 - val_loss: 0.0577 - val_accuracy: 0.9797\n",
            "Epoch 239/250\n",
            "125/125 [==============================] - 5s 43ms/step - loss: 0.0336 - accuracy: 0.9868 - val_loss: 0.0558 - val_accuracy: 0.9799\n",
            "Epoch 240/250\n",
            "125/125 [==============================] - 5s 43ms/step - loss: 0.0335 - accuracy: 0.9869 - val_loss: 0.0542 - val_accuracy: 0.9804\n",
            "Epoch 241/250\n",
            "125/125 [==============================] - 5s 43ms/step - loss: 0.0334 - accuracy: 0.9869 - val_loss: 0.0555 - val_accuracy: 0.9799\n",
            "Epoch 242/250\n",
            "125/125 [==============================] - 5s 43ms/step - loss: 0.0333 - accuracy: 0.9869 - val_loss: 0.0553 - val_accuracy: 0.9801\n",
            "Epoch 243/250\n",
            "125/125 [==============================] - 5s 44ms/step - loss: 0.0332 - accuracy: 0.9870 - val_loss: 0.0557 - val_accuracy: 0.9801\n",
            "Epoch 244/250\n",
            "125/125 [==============================] - 5s 43ms/step - loss: 0.0332 - accuracy: 0.9870 - val_loss: 0.0545 - val_accuracy: 0.9805\n",
            "Epoch 245/250\n",
            "125/125 [==============================] - 5s 43ms/step - loss: 0.0331 - accuracy: 0.9870 - val_loss: 0.0550 - val_accuracy: 0.9804\n",
            "Epoch 246/250\n",
            "125/125 [==============================] - 5s 43ms/step - loss: 0.0330 - accuracy: 0.9871 - val_loss: 0.0542 - val_accuracy: 0.9805\n",
            "Epoch 247/250\n",
            "125/125 [==============================] - 5s 43ms/step - loss: 0.0328 - accuracy: 0.9871 - val_loss: 0.0541 - val_accuracy: 0.9805\n",
            "Epoch 248/250\n",
            "125/125 [==============================] - 5s 43ms/step - loss: 0.0330 - accuracy: 0.9871 - val_loss: 0.0544 - val_accuracy: 0.9803\n",
            "Epoch 249/250\n",
            "125/125 [==============================] - 5s 43ms/step - loss: 0.0327 - accuracy: 0.9872 - val_loss: 0.0550 - val_accuracy: 0.9803\n",
            "Epoch 250/250\n",
            "125/125 [==============================] - 5s 43ms/step - loss: 0.0327 - accuracy: 0.9872 - val_loss: 0.0539 - val_accuracy: 0.9805\n"
          ],
          "name": "stdout"
        }
      ]
    },
    {
      "cell_type": "markdown",
      "metadata": {
        "id": "BLNzLB3peeNG"
      },
      "source": [
        "**Expected Output:**\n",
        "\n",
        "The losses should generally be decreasing and the accuracies should generally be increasing. For example, observing the first 4 epochs should output something similar:\n",
        "\n",
        "```txt\n",
        "Epoch 1/70\n",
        "125/125 [==============================] - 6s 50ms/step - loss: 0.5542 - accuracy: 0.8635 - val_loss: 0.5335 - val_accuracy: 0.9427\n",
        "Epoch 2/70\n",
        "125/125 [==============================] - 6s 47ms/step - loss: 0.2315 - accuracy: 0.9425 - val_loss: 0.3362 - val_accuracy: 0.9427\n",
        "Epoch 3/70\n",
        "125/125 [==============================] - 6s 47ms/step - loss: 0.2118 - accuracy: 0.9426 - val_loss: 0.2592 - val_accuracy: 0.9427\n",
        "Epoch 4/70\n",
        "125/125 [==============================] - 6s 47ms/step - loss: 0.1782 - accuracy: 0.9431 - val_loss: 0.1770 - val_accuracy: 0.9432\n",
        "```"
      ]
    },
    {
      "cell_type": "markdown",
      "metadata": {
        "id": "eih-Q7GoXzJe"
      },
      "source": [
        "## Model Evaluation"
      ]
    },
    {
      "cell_type": "markdown",
      "metadata": {
        "id": "2bTkaFM2X1gr"
      },
      "source": [
        "### Make Predictions\n",
        "\n",
        "Let's get the predictions using our test dataset as input and print the shape."
      ]
    },
    {
      "cell_type": "code",
      "metadata": {
        "id": "zENjQuK0luH5",
        "colab": {
          "base_uri": "https://localhost:8080/"
        },
        "outputId": "b45aa830-503f-4fd4-9492-415b2b24c78d"
      },
      "source": [
        "results = model.predict(test_dataset, steps=test_steps)\n",
        "\n",
        "print(results.shape)"
      ],
      "execution_count": 19,
      "outputs": [
        {
          "output_type": "stream",
          "text": [
            "(192, 64, 84, 11)\n"
          ],
          "name": "stdout"
        }
      ]
    },
    {
      "cell_type": "markdown",
      "metadata": {
        "id": "IReKPT_DZHjA"
      },
      "source": [
        "As you can see, the resulting shape is `(192, 64, 84, 11)`. This means that for each of the 192 images that we have in our test set, there are 11 predictions generated (i.e. one for each class: 0 to 1 plus background)."
      ]
    },
    {
      "cell_type": "markdown",
      "metadata": {
        "id": "OBPBqnHyaSaG"
      },
      "source": [
        "Thus, if you want to see the *probability* of the upper leftmost pixel of the 1st image belonging to class 0, then you can print something like `results[0,0,0,0]`. If you want the probability of the same pixel at class 10, then do `results[0,0,0,10]`.\n",
        "\n",
        "\n"
      ]
    },
    {
      "cell_type": "code",
      "metadata": {
        "id": "jwFiR9WAf0Av",
        "colab": {
          "base_uri": "https://localhost:8080/"
        },
        "outputId": "20e4e571-4d63-4d41-88c9-e9ed39edca89"
      },
      "source": [
        "print(results[0,0,0,0])\n",
        "print(results[0,0,0,10])"
      ],
      "execution_count": 20,
      "outputs": [
        {
          "output_type": "stream",
          "text": [
            "1.6769071e-07\n",
            "0.9999583\n"
          ],
          "name": "stdout"
        }
      ]
    },
    {
      "cell_type": "markdown",
      "metadata": {
        "id": "wKDsqzKEf28V"
      },
      "source": [
        "What we're interested in is to get the *index* of the highest probability of each of these 11 slices and combine them in a single image. We can do that by getting the [argmax](https://numpy.org/doc/stable/reference/generated/numpy.argmax.html) at this axis."
      ]
    },
    {
      "cell_type": "code",
      "metadata": {
        "id": "0_Uj_uuV9TQt",
        "colab": {
          "base_uri": "https://localhost:8080/"
        },
        "outputId": "77796c8f-ed93-4156-b044-ddd7d87686eb"
      },
      "source": [
        "results = np.argmax(results, axis=3)\n",
        "\n",
        "print(results.shape)"
      ],
      "execution_count": 21,
      "outputs": [
        {
          "output_type": "stream",
          "text": [
            "(192, 64, 84)\n"
          ],
          "name": "stdout"
        }
      ]
    },
    {
      "cell_type": "markdown",
      "metadata": {
        "id": "ClaGbOLhdKD2"
      },
      "source": [
        "The new array generated per image now only specifies the indices of the class with the highest probability. Let's see the output class of the upper most left pixel. As you might have observed earlier when you inspected the dataset, the upper left corner is usually just part of the background (class 10). The actual digits are written somewhere in the middle parts of the image."
      ]
    },
    {
      "cell_type": "code",
      "metadata": {
        "id": "aBeBwvHQd2pZ",
        "colab": {
          "base_uri": "https://localhost:8080/"
        },
        "outputId": "1dcbe3fe-c45c-4f29-d56d-8df2bd874cfa"
      },
      "source": [
        "print(results[0,0,0])\n",
        "\n",
        "# prediction map for image 0\n",
        "print(results[0,:,:])"
      ],
      "execution_count": 22,
      "outputs": [
        {
          "output_type": "stream",
          "text": [
            "10\n",
            "[[10 10 10 ... 10 10 10]\n",
            " [10 10 10 ... 10 10 10]\n",
            " [10 10 10 ... 10 10 10]\n",
            " ...\n",
            " [10 10 10 ... 10 10 10]\n",
            " [10 10 10 ... 10 10 10]\n",
            " [10 10 10 ... 10 10 10]]\n"
          ],
          "name": "stdout"
        }
      ]
    },
    {
      "cell_type": "markdown",
      "metadata": {
        "id": "V3FxyNgrg7IE"
      },
      "source": [
        "We will use this `results` array when we evaluate our predictions."
      ]
    },
    {
      "cell_type": "markdown",
      "metadata": {
        "id": "hpKDUuAWX5Pj"
      },
      "source": [
        "### Metrics\n",
        "\n",
        "We showed in the lectures two ways to evaluate your predictions. The *intersection over union (IOU)* and the *dice score*. Recall that:\n",
        "\n",
        "$$IOU = \\frac{area\\_of\\_overlap}{area\\_of\\_union}$$\n",
        "<br>\n",
        "$$Dice Score = 2 * \\frac{area\\_of\\_overlap}{combined\\_area}$$\n",
        "\n",
        "The code below does that for you as you've also seen in the ungraded lab. A small smoothing factor is introduced in the denominators to prevent possible division by zero."
      ]
    },
    {
      "cell_type": "code",
      "metadata": {
        "id": "gKTpLmly_RXb"
      },
      "source": [
        "def class_wise_metrics(y_true, y_pred):\n",
        "  '''\n",
        "  Computes the class-wise IOU and Dice Score.\n",
        "\n",
        "  Args:\n",
        "    y_true (tensor) - ground truth label maps\n",
        "    y_pred (tensor) - predicted label maps\n",
        "  '''\n",
        "  class_wise_iou = []\n",
        "  class_wise_dice_score = []\n",
        "\n",
        "  smoothing_factor = 0.00001\n",
        "\n",
        "  for i in range(n_classes):\n",
        "    intersection = np.sum((y_pred == i) * (y_true == i))\n",
        "    y_true_area = np.sum((y_true == i))\n",
        "    y_pred_area = np.sum((y_pred == i))\n",
        "    combined_area = y_true_area + y_pred_area\n",
        "    \n",
        "    iou = (intersection) / (combined_area - intersection + smoothing_factor)\n",
        "    class_wise_iou.append(iou)\n",
        "    \n",
        "    dice_score =  2 * ((intersection) / (combined_area + smoothing_factor))\n",
        "    class_wise_dice_score.append(dice_score)\n",
        "\n",
        "  return class_wise_iou, class_wise_dice_score\n"
      ],
      "execution_count": 23,
      "outputs": []
    },
    {
      "cell_type": "markdown",
      "metadata": {
        "id": "FfWPwM4ZhHjE"
      },
      "source": [
        "### Visualize Predictions"
      ]
    },
    {
      "cell_type": "code",
      "metadata": {
        "id": "Hkbsk_P1fpRM",
        "lines_to_next_cell": 2,
        "colab": {
          "base_uri": "https://localhost:8080/",
          "height": 244
        },
        "outputId": "60059447-d6b8-42a2-eba9-063ea704208d"
      },
      "source": [
        "# place a number here between 0 to 191 to pick an image from the test set\n",
        "integer_slider = 105\n",
        "\n",
        "ds = test_dataset.unbatch()\n",
        "ds = ds.batch(200)\n",
        "images = []\n",
        "\n",
        "y_true_segments = []\n",
        "for image, annotation in ds.take(2):\n",
        "  y_true_segments = annotation\n",
        "  images = image\n",
        "  \n",
        "  \n",
        "iou, dice_score = class_wise_metrics(np.argmax(y_true_segments[integer_slider], axis=2), results[integer_slider])  \n",
        "show_annotation_and_prediction(image[integer_slider], annotation[integer_slider], results[integer_slider], iou, dice_score)\n"
      ],
      "execution_count": 27,
      "outputs": [
        {
          "output_type": "display_data",
          "data": {
            "image/png": "[encoded data removed]",
            "text/plain": [
              "<Figure size 1080x288 with 3 Axes>"
            ]
          },
          "metadata": {
            "tags": []
          }
        }
      ]
    },
    {
      "cell_type": "markdown",
      "metadata": {
        "id": "EiG9K4t6X9iZ"
      },
      "source": [
        "### Compute IOU Score and Dice Score of your model"
      ]
    },
    {
      "cell_type": "code",
      "metadata": {
        "id": "2706boF0CNNS",
        "lines_to_next_cell": 2,
        "colab": {
          "base_uri": "https://localhost:8080/"
        },
        "outputId": "683b9dc4-9106-45a4-f95c-47e4b9755564"
      },
      "source": [
        "cls_wise_iou, cls_wise_dice_score = class_wise_metrics(np.argmax(y_true_segments, axis=3), results)\n",
        "\n",
        "average_iou = 0.0\n",
        "for idx, (iou, dice_score) in enumerate(zip(cls_wise_iou[:-1], cls_wise_dice_score[:-1])):\n",
        "  print(\"Digit {}: IOU: {} Dice Score: {}\".format(idx, iou, dice_score)) \n",
        "  average_iou += iou\n",
        "\n",
        "grade = average_iou * 10\n",
        "\n",
        "print(\"\\nGrade is \" + str(grade))\n",
        "\n",
        "PASSING_GRADE = 60\n",
        "if (grade>PASSING_GRADE):\n",
        "  print(\"You passed!\")\n",
        "else:\n",
        "  print(\"You failed. Please check your model and re-train\")"
      ],
      "execution_count": 25,
      "outputs": [
        {
          "output_type": "stream",
          "text": [
            "Digit 0: IOU: 0.7697406332663395 Dice Score: 0.8698908967758286\n",
            "Digit 1: IOU: 0.6977813833934486 Dice Score: 0.8219920305625625\n",
            "Digit 2: IOU: 0.6032124672340768 Dice Score: 0.752504711087685\n",
            "Digit 3: IOU: 0.6571428563765098 Dice Score: 0.7931034477177316\n",
            "Digit 4: IOU: 0.6074154843318033 Dice Score: 0.7557666207057893\n",
            "Digit 5: IOU: 0.5735294110116473 Dice Score: 0.7289719620085348\n",
            "Digit 6: IOU: 0.6405026099208508 Dice Score: 0.7808614336209475\n",
            "Digit 7: IOU: 0.7005804567871969 Dice Score: 0.823930974851682\n",
            "Digit 8: IOU: 0.6454057023758015 Dice Score: 0.7844943061080926\n",
            "Digit 9: IOU: 0.6111879504976365 Dice Score: 0.7586798924468906\n",
            "\n",
            "Grade is 65.0649895519531\n",
            "You passed!\n"
          ],
          "name": "stdout"
        }
      ]
    },
    {
      "cell_type": "markdown",
      "metadata": {
        "id": "vvw0HLY2kV3w"
      },
      "source": [
        "## Save the Model\n",
        "\n",
        "Once you're satisfied with the results, you will need to save your model so you can upload it to the grader in the Coursera classroom. After running the cell below, please look for `student_model.h5` in the File Explorer on the left and download it. Then go back to the Coursera classroom and upload it to the Lab item that points to the autograder of Week 3."
      ]
    },
    {
      "cell_type": "code",
      "metadata": {
        "id": "ULCfGHEKkaO0"
      },
      "source": [
        "model.save(\"model.h5\")"
      ],
      "execution_count": 29,
      "outputs": []
    },
    {
      "cell_type": "code",
      "metadata": {
        "id": "QbVfJ2aLONqw",
        "colab": {
          "base_uri": "https://localhost:8080/",
          "height": 17
        },
        "outputId": "7943d88c-1560-4805-b85f-612a015fb039"
      },
      "source": [
        "# You can also use this cell as a shortcut for downloading your model\n",
        "from google.colab import files\n",
        "files.download(\"model.h5\")"
      ],
      "execution_count": 1,
      "outputs": [
        {
          "output_type": "display_data",
          "data": {
            "application/javascript": [
              "\n",
              "    async function download(id, filename, size) {\n",
              "      if (!google.colab.kernel.accessAllowed) {\n",
              "        return;\n",
              "      }\n",
              "      const div = document.createElement('div');\n",
              "      const label = document.createElement('label');\n",
              "      label.textContent = `Downloading \"${filename}\": `;\n",
              "      div.appendChild(label);\n",
              "      const progress = document.createElement('progress');\n",
              "      progress.max = size;\n",
              "      div.appendChild(progress);\n",
              "      document.body.appendChild(div);\n",
              "\n",
              "      const buffers = [];\n",
              "      let downloaded = 0;\n",
              "\n",
              "      const channel = await google.colab.kernel.comms.open(id);\n",
              "      // Send a message to notify the kernel that we're ready.\n",
              "      channel.send({})\n",
              "\n",
              "      for await (const message of channel.messages) {\n",
              "        // Send a message to notify the kernel that we're ready.\n",
              "        channel.send({})\n",
              "        if (message.buffers) {\n",
              "          for (const buffer of message.buffers) {\n",
              "            buffers.push(buffer);\n",
              "            downloaded += buffer.byteLength;\n",
              "            progress.value = downloaded;\n",
              "          }\n",
              "        }\n",
              "      }\n",
              "      const blob = new Blob(buffers, {type: 'application/binary'});\n",
              "      const a = document.createElement('a');\n",
              "      a.href = window.URL.createObjectURL(blob);\n",
              "      a.download = filename;\n",
              "      div.appendChild(a);\n",
              "      a.click();\n",
              "      div.remove();\n",
              "    }\n",
              "  "
            ],
            "text/plain": [
              "<IPython.core.display.Javascript object>"
            ]
          },
          "metadata": {
            "tags": []
          }
        },
        {
          "output_type": "display_data",
          "data": {
            "application/javascript": [
              "download(\"download_37d318ea-106d-464e-8054-f9ce6315d6d2\", \"model.h5\", 62273072)"
            ],
            "text/plain": [
              "<IPython.core.display.Javascript object>"
            ]
          },
          "metadata": {
            "tags": []
          }
        }
      ]
    },
    {
      "cell_type": "markdown",
      "metadata": {
        "id": "dmyvoAynkgVw"
      },
      "source": [
        "**Congratulations on completing this assignment on image segmentation!**"
      ]
    },
    {
      "cell_type": "code",
      "metadata": {
        "id": "9y1mu55FfBFr"
      },
      "source": [
        ""
      ],
      "execution_count": null,
      "outputs": []
    }
  ]
}